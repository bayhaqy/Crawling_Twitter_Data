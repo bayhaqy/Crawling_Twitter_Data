{
  "nbformat": 4,
  "nbformat_minor": 0,
  "metadata": {
    "kernelspec": {
      "display_name": "Python 3",
      "language": "python",
      "name": "python3"
    },
    "language_info": {
      "codemirror_mode": {
        "name": "ipython",
        "version": 3
      },
      "file_extension": ".py",
      "mimetype": "text/x-python",
      "name": "python",
      "nbconvert_exporter": "python",
      "pygments_lexer": "ipython3",
      "version": "3.7.9"
    },
    "colab": {
      "name": "Crawling Data Twitter.ipynb",
      "provenance": [],
      "collapsed_sections": [
        "t3mop9O8bJBy",
        "bAkKugQnIHyR",
        "ebXGYtCtYtdF",
        "MT6f6dsHY9Gy",
        "eNB4OCpeIWP1",
        "t9Oy2NYQb3OV",
        "byyabP1Ic_o6"
      ],
      "include_colab_link": true
    }
  },
  "cells": [
    {
      "cell_type": "markdown",
      "metadata": {
        "id": "view-in-github",
        "colab_type": "text"
      },
      "source": [
        "<a href=\"https://colab.research.google.com/github/bayhaqy/Crawling_Twitter_Data/blob/main/Crawling_Data_Twitter.ipynb\" target=\"_parent\"><img src=\"https://colab.research.google.com/assets/colab-badge.svg\" alt=\"Open In Colab\"/></a>"
      ]
    },
    {
      "cell_type": "markdown",
      "metadata": {
        "id": "yGRfizgwIBOz"
      },
      "source": [
        "# Crawling Data Twitter"
      ]
    },
    {
      "cell_type": "markdown",
      "metadata": {
        "id": "t3mop9O8bJBy"
      },
      "source": [
        "## Install & Import Requirement Library"
      ]
    },
    {
      "cell_type": "markdown",
      "metadata": {
        "id": "bAkKugQnIHyR"
      },
      "source": [
        "### Install Library"
      ]
    },
    {
      "cell_type": "code",
      "metadata": {
        "id": "ha2yOFCqo36y",
        "colab": {
          "base_uri": "https://localhost:8080/"
        },
        "outputId": "f77ebb25-f982-4be4-b16d-4ad683669930"
      },
      "source": [
        "#!pip3 uninstall twint -y\n",
        "#!pip3 install --user --upgrade git+https://github.com/twintproject/twint.git@origin/master#egg=twint\n",
        "!pip3 install nest_asyncio"
      ],
      "execution_count": 1,
      "outputs": [
        {
          "output_type": "stream",
          "text": [
            "\u001b[33mWARNING: Skipping twint as it is not installed.\u001b[0m\n",
            "Requirement already satisfied: nest_asyncio in /usr/local/lib/python3.7/dist-packages (1.5.1)\n"
          ],
          "name": "stdout"
        }
      ]
    },
    {
      "cell_type": "markdown",
      "metadata": {
        "id": "ebXGYtCtYtdF"
      },
      "source": [
        "### If you can't import twint, Plase uninstall and install from github (remove comment from script)"
      ]
    },
    {
      "cell_type": "code",
      "metadata": {
        "colab": {
          "base_uri": "https://localhost:8080/"
        },
        "id": "pO-npJ6eUFGU",
        "outputId": "5e688315-f559-4ccf-a046-6e4f941acd1d"
      },
      "source": [
        "!git clone --depth=1 https://github.com/twintproject/twint.git"
      ],
      "execution_count": 2,
      "outputs": [
        {
          "output_type": "stream",
          "text": [
            "Cloning into 'twint'...\n",
            "remote: Enumerating objects: 47, done.\u001b[K\n",
            "remote: Counting objects: 100% (47/47), done.\u001b[K\n",
            "remote: Compressing objects: 100% (44/44), done.\u001b[K\n",
            "remote: Total 47 (delta 3), reused 14 (delta 0), pack-reused 0\u001b[K\n",
            "Unpacking objects: 100% (47/47), done.\n"
          ],
          "name": "stdout"
        }
      ]
    },
    {
      "cell_type": "code",
      "metadata": {
        "colab": {
          "base_uri": "https://localhost:8080/"
        },
        "id": "oP7JvuasXWXL",
        "outputId": "513bcd8a-78a4-403a-e2fc-ce75bca7e9a3"
      },
      "source": [
        "cd twint"
      ],
      "execution_count": 3,
      "outputs": [
        {
          "output_type": "stream",
          "text": [
            "/content/twint\n"
          ],
          "name": "stdout"
        }
      ]
    },
    {
      "cell_type": "code",
      "metadata": {
        "colab": {
          "base_uri": "https://localhost:8080/"
        },
        "id": "Swi6No2yXdCW",
        "outputId": "bbf08c42-db9b-488d-d762-4422905aea17"
      },
      "source": [
        "ls"
      ],
      "execution_count": 4,
      "outputs": [
        {
          "output_type": "stream",
          "text": [
            "automate.py  \u001b[0m\u001b[01;34melasticsearch\u001b[0m/  MANIFEST.in  requirements.txt  test.py\n",
            "Dockerfile   LICENSE         README.md    setup.py          \u001b[01;34mtwint\u001b[0m/\n"
          ],
          "name": "stdout"
        }
      ]
    },
    {
      "cell_type": "code",
      "metadata": {
        "colab": {
          "base_uri": "https://localhost:8080/"
        },
        "id": "jZbVcvQgXdv9",
        "outputId": "724c6579-3140-4d32-8f06-0276476df303"
      },
      "source": [
        "!pip3 install . -r requirements.txt"
      ],
      "execution_count": 5,
      "outputs": [
        {
          "output_type": "stream",
          "text": [
            "Processing /content/twint\n",
            "Collecting aiohttp\n",
            "\u001b[?25l  Downloading https://files.pythonhosted.org/packages/88/c0/5890b4c8b04a79b7360e8fe4490feb0bb3ab179743f199f0e6220cebd568/aiohttp-3.7.4.post0-cp37-cp37m-manylinux2014_x86_64.whl (1.3MB)\n",
            "\u001b[K     |████████████████████████████████| 1.3MB 7.6MB/s \n",
            "\u001b[?25hCollecting aiodns\n",
            "  Downloading https://files.pythonhosted.org/packages/ab/72/991ee33a517df69c6cd6f3486cfe9b6329557cb55acaa8cefac33c2aa4d2/aiodns-3.0.0-py3-none-any.whl\n",
            "Requirement already satisfied: beautifulsoup4 in /usr/local/lib/python3.7/dist-packages (from -r requirements.txt (line 3)) (4.6.3)\n",
            "Collecting cchardet\n",
            "\u001b[?25l  Downloading https://files.pythonhosted.org/packages/80/72/a4fba7559978de00cf44081c548c5d294bf00ac7dcda2db405d2baa8c67a/cchardet-2.1.7-cp37-cp37m-manylinux2010_x86_64.whl (263kB)\n",
            "\u001b[K     |████████████████████████████████| 266kB 29.7MB/s \n",
            "\u001b[?25hCollecting dataclasses\n",
            "  Downloading https://files.pythonhosted.org/packages/26/2f/1095cdc2868052dd1e64520f7c0d5c8c550ad297e944e641dbf1ffbb9a5d/dataclasses-0.6-py3-none-any.whl\n",
            "Collecting elasticsearch\n",
            "\u001b[?25l  Downloading https://files.pythonhosted.org/packages/ab/b1/58cfb0bf54e29c20669d6e588496fb7fe8b54f53bc238be4cb0a185a1e76/elasticsearch-7.13.1-py2.py3-none-any.whl (354kB)\n",
            "\u001b[K     |████████████████████████████████| 358kB 29.7MB/s \n",
            "\u001b[?25hRequirement already satisfied: pysocks in /usr/local/lib/python3.7/dist-packages (from -r requirements.txt (line 7)) (1.7.1)\n",
            "Requirement already satisfied: pandas>=0.23.0 in /usr/local/lib/python3.7/dist-packages (from -r requirements.txt (line 8)) (1.1.5)\n",
            "Collecting aiohttp_socks<=0.4.1\n",
            "  Downloading https://files.pythonhosted.org/packages/72/55/c00bf359a54c1438ac0fe36f9bba9538c912138f033897d4e95ddd8cc772/aiohttp_socks-0.4.1-py3-none-any.whl\n",
            "Collecting schedule\n",
            "  Downloading https://files.pythonhosted.org/packages/eb/3b/040bd180eaef427dd160562ee66adc9f4f67088185c272edcdb899c609c7/schedule-1.1.0-py2.py3-none-any.whl\n",
            "Requirement already satisfied: geopy in /usr/local/lib/python3.7/dist-packages (from -r requirements.txt (line 11)) (1.17.0)\n",
            "Collecting fake-useragent\n",
            "  Downloading https://files.pythonhosted.org/packages/d1/79/af647635d6968e2deb57a208d309f6069d31cb138066d7e821e575112a80/fake-useragent-0.1.11.tar.gz\n",
            "Collecting googletransx\n",
            "  Downloading https://files.pythonhosted.org/packages/27/e1/77cd530afec7944d40c5bdd260bcc111be4012b045c82d4e3ffec90b2a42/googletransx-2.4.2.tar.gz\n",
            "Collecting multidict<7.0,>=4.5\n",
            "\u001b[?25l  Downloading https://files.pythonhosted.org/packages/7c/a6/4123b8165acbe773d1a8dc8e3f0d1edea16d29f7de018eda769abb56bd30/multidict-5.1.0-cp37-cp37m-manylinux2014_x86_64.whl (142kB)\n",
            "\u001b[K     |████████████████████████████████| 143kB 39.3MB/s \n",
            "\u001b[?25hCollecting yarl<2.0,>=1.0\n",
            "\u001b[?25l  Downloading https://files.pythonhosted.org/packages/f1/62/046834c5fc998c88ab2ef722f5d42122230a632212c8afa76418324f53ff/yarl-1.6.3-cp37-cp37m-manylinux2014_x86_64.whl (294kB)\n",
            "\u001b[K     |████████████████████████████████| 296kB 38.7MB/s \n",
            "\u001b[?25hCollecting async-timeout<4.0,>=3.0\n",
            "  Downloading https://files.pythonhosted.org/packages/e1/1e/5a4441be21b0726c4464f3f23c8b19628372f606755a9d2e46c187e65ec4/async_timeout-3.0.1-py3-none-any.whl\n",
            "Requirement already satisfied: chardet<5.0,>=2.0 in /usr/local/lib/python3.7/dist-packages (from aiohttp->-r requirements.txt (line 1)) (3.0.4)\n",
            "Requirement already satisfied: typing-extensions>=3.6.5 in /usr/local/lib/python3.7/dist-packages (from aiohttp->-r requirements.txt (line 1)) (3.7.4.3)\n",
            "Requirement already satisfied: attrs>=17.3.0 in /usr/local/lib/python3.7/dist-packages (from aiohttp->-r requirements.txt (line 1)) (21.2.0)\n",
            "Collecting pycares>=4.0.0\n",
            "\u001b[?25l  Downloading https://files.pythonhosted.org/packages/aa/36/6328afbcc7591ff51a6d6c8c89fe1d53d3030d48aea74e36bab0ed8e2c3c/pycares-4.0.0-cp37-cp37m-manylinux2010_x86_64.whl (291kB)\n",
            "\u001b[K     |████████████████████████████████| 296kB 41.6MB/s \n",
            "\u001b[?25hRequirement already satisfied: certifi in /usr/local/lib/python3.7/dist-packages (from elasticsearch->-r requirements.txt (line 6)) (2020.12.5)\n",
            "Requirement already satisfied: urllib3<2,>=1.21.1 in /usr/local/lib/python3.7/dist-packages (from elasticsearch->-r requirements.txt (line 6)) (1.24.3)\n",
            "Requirement already satisfied: python-dateutil>=2.7.3 in /usr/local/lib/python3.7/dist-packages (from pandas>=0.23.0->-r requirements.txt (line 8)) (2.8.1)\n",
            "Requirement already satisfied: numpy>=1.15.4 in /usr/local/lib/python3.7/dist-packages (from pandas>=0.23.0->-r requirements.txt (line 8)) (1.19.5)\n",
            "Requirement already satisfied: pytz>=2017.2 in /usr/local/lib/python3.7/dist-packages (from pandas>=0.23.0->-r requirements.txt (line 8)) (2018.9)\n",
            "Requirement already satisfied: geographiclib<2,>=1.49 in /usr/local/lib/python3.7/dist-packages (from geopy->-r requirements.txt (line 11)) (1.50)\n",
            "Requirement already satisfied: requests in /usr/local/lib/python3.7/dist-packages (from googletransx->-r requirements.txt (line 13)) (2.23.0)\n",
            "Requirement already satisfied: idna>=2.0 in /usr/local/lib/python3.7/dist-packages (from yarl<2.0,>=1.0->aiohttp->-r requirements.txt (line 1)) (2.10)\n",
            "Requirement already satisfied: cffi>=1.5.0 in /usr/local/lib/python3.7/dist-packages (from pycares>=4.0.0->aiodns->-r requirements.txt (line 2)) (1.14.5)\n",
            "Requirement already satisfied: six>=1.5 in /usr/local/lib/python3.7/dist-packages (from python-dateutil>=2.7.3->pandas>=0.23.0->-r requirements.txt (line 8)) (1.15.0)\n",
            "Requirement already satisfied: pycparser in /usr/local/lib/python3.7/dist-packages (from cffi>=1.5.0->pycares>=4.0.0->aiodns->-r requirements.txt (line 2)) (2.20)\n",
            "Building wheels for collected packages: fake-useragent, googletransx, twint\n",
            "  Building wheel for fake-useragent (setup.py) ... \u001b[?25l\u001b[?25hdone\n",
            "  Created wheel for fake-useragent: filename=fake_useragent-0.1.11-cp37-none-any.whl size=13501 sha256=b474594bce3c54c4ed699fcd600fc248cc626c25407cac38aa7b22202261b9af\n",
            "  Stored in directory: /root/.cache/pip/wheels/5e/63/09/d1dc15179f175357d3f5c00cbffbac37f9e8690d80545143ff\n",
            "  Building wheel for googletransx (setup.py) ... \u001b[?25l\u001b[?25hdone\n",
            "  Created wheel for googletransx: filename=googletransx-2.4.2-cp37-none-any.whl size=15970 sha256=b0182800b562411ed111a0862c6b10ab56d1f00371cbc020fc8a7e3d3a0d5906\n",
            "  Stored in directory: /root/.cache/pip/wheels/04/63/5f/75e7e94eb62517946116a783e4cd8970c4789c990bbc732616\n",
            "  Building wheel for twint (setup.py) ... \u001b[?25l\u001b[?25hdone\n",
            "  Created wheel for twint: filename=twint-2.1.21-cp37-none-any.whl size=38872 sha256=ae3ebd064280f694a08d76933ebb95bf1c16e4d4615854c80c6d8cde47caf4af\n",
            "  Stored in directory: /tmp/pip-ephem-wheel-cache-aa7m69kb/wheels/c9/bb/bd/2b559954ecc4f4905266df71e9f2e08268750df0fa1ec1a4d2\n",
            "Successfully built fake-useragent googletransx twint\n",
            "Installing collected packages: multidict, yarl, async-timeout, aiohttp, pycares, aiodns, cchardet, dataclasses, elasticsearch, aiohttp-socks, schedule, fake-useragent, googletransx, twint\n",
            "Successfully installed aiodns-3.0.0 aiohttp-3.7.4.post0 aiohttp-socks-0.4.1 async-timeout-3.0.1 cchardet-2.1.7 dataclasses-0.6 elasticsearch-7.13.1 fake-useragent-0.1.11 googletransx-2.4.2 multidict-5.1.0 pycares-4.0.0 schedule-1.1.0 twint-2.1.21 yarl-1.6.3\n"
          ],
          "name": "stdout"
        }
      ]
    },
    {
      "cell_type": "markdown",
      "metadata": {
        "id": "MT6f6dsHY9Gy"
      },
      "source": [
        "### Check library twint & googletransx"
      ]
    },
    {
      "cell_type": "code",
      "metadata": {
        "id": "cdm3l6X2o361",
        "colab": {
          "base_uri": "https://localhost:8080/"
        },
        "outputId": "644f96ec-5a2e-4b9c-c04f-1cb5d699271c"
      },
      "source": [
        "# Cek library\n",
        "!pip list|grep twint\n",
        "!pip list|grep googletransx"
      ],
      "execution_count": 6,
      "outputs": [
        {
          "output_type": "stream",
          "text": [
            "twint                         2.1.21             \n",
            "googletransx                  2.4.2              \n"
          ],
          "name": "stdout"
        }
      ]
    },
    {
      "cell_type": "markdown",
      "metadata": {
        "id": "eNB4OCpeIWP1"
      },
      "source": [
        "### Import Library"
      ]
    },
    {
      "cell_type": "code",
      "metadata": {
        "id": "d2zjcjs5o363"
      },
      "source": [
        "import pandas as pd\n",
        "import twint\n",
        "import nest_asyncio\n",
        "\n",
        "nest_asyncio.apply()"
      ],
      "execution_count": 7,
      "outputs": []
    },
    {
      "cell_type": "markdown",
      "metadata": {
        "id": "t9Oy2NYQb3OV"
      },
      "source": [
        "### Mounting Google Drive"
      ]
    },
    {
      "cell_type": "code",
      "metadata": {
        "colab": {
          "base_uri": "https://localhost:8080/"
        },
        "id": "4pGFa8Rrb2Iq",
        "outputId": "348d6b24-41f3-4e60-8971-65bf33aa6e5e"
      },
      "source": [
        "from google.colab import drive\n",
        "drive.mount('/content/gdrive', force_remount=True)"
      ],
      "execution_count": 12,
      "outputs": [
        {
          "output_type": "stream",
          "text": [
            "Mounted at /content/gdrive\n"
          ],
          "name": "stdout"
        }
      ]
    },
    {
      "cell_type": "code",
      "metadata": {
        "colab": {
          "base_uri": "https://localhost:8080/"
        },
        "id": "rRdMa1kacCZU",
        "outputId": "87f0828b-fde2-469a-8fb4-6a6462d340b8"
      },
      "source": [
        "cd /content/gdrive/'My Drive'/"
      ],
      "execution_count": 13,
      "outputs": [
        {
          "output_type": "stream",
          "text": [
            "/content/gdrive/My Drive\n"
          ],
          "name": "stdout"
        }
      ]
    },
    {
      "cell_type": "code",
      "metadata": {
        "id": "flu8bll8cIO1"
      },
      "source": [
        "ls "
      ],
      "execution_count": null,
      "outputs": []
    },
    {
      "cell_type": "markdown",
      "metadata": {
        "id": "nfXcA8BYIpZZ"
      },
      "source": [
        "## Search the Tweet"
      ]
    },
    {
      "cell_type": "code",
      "metadata": {
        "id": "IEEKyJqdo365",
        "colab": {
          "base_uri": "https://localhost:8080/"
        },
        "cellView": "form",
        "outputId": "a036ca0a-0f21-4655-8620-7d84bf153435"
      },
      "source": [
        "#@title Search the Tweet...\n",
        "#Create Object from library twint and class Config\n",
        "c = twint.Config()\n",
        "\n",
        "#Put the username what you want to get\n",
        "#c.Username = \"\" #@param {type:\"string\"}\n",
        "\n",
        "#Put keyword what you want to search\n",
        "c.Search = \"#savepalestine\" #@param {type:\"string\"}\n",
        "#c.Search = \"jakarta\" #@param {type:\"string\"}\n",
        "\n",
        "#What you want to show and export\n",
        "#c.Custom = {\"tweet\": None, \"user\": None, \"username\": None}\n",
        "\n",
        "#Set date time for the tweet\n",
        "c.Since = \"2019-05-09 00:00:00\" #@param {type:\"string\"}\n",
        "c.Until = \"2021-05-11 00:00:00\" #@param {type:\"string\"}\n",
        "\n",
        "#Set language what you want to translate it\n",
        "c.TranslateDest = \"en\" #@param {type:\"string\"}\n",
        "\n",
        "#How much text what you want to get it\n",
        "c.Limit = \"10\" #@param {type:\"string\"}\n",
        "\n",
        "#Set language\n",
        "#c.Lang = \"id\"\n",
        "\n",
        "#c.Verified = True\n",
        "#c.Min_likes = 100\n",
        "#c.Min_retweets = 1\n",
        "#c.Min_replies = 1\n",
        "#c.Hide_output = True\n",
        "#c.Show_hashtags = True\n",
        "\n",
        "#Set it if you want to save to csv format\n",
        "c.Store_csv = True #@param {type:\"string\"}\n",
        "\n",
        "#Set destination location\n",
        "c.Output = \"result.csv\" #@param {type:\"string\"}\n",
        "\n",
        "#Execute the script\n",
        "twint.run.Search(c)"
      ],
      "execution_count": 55,
      "outputs": [
        {
          "output_type": "stream",
          "text": [
            "1391905893311205376 2021-05-10 23:59:59 +0000 <I_am_Awan> Malala can't speak against her sponsors because dollars are more important than Muslims. #Gaza #GazaUnderAttack #SavePalestine #SupportGaza\n",
            "1391905892178685954 2021-05-10 23:59:59 +0000 <MoinK9504> Ya Allah .... Forgive us that we are unable to save your home from heinous creatures of Israel . Forgive us that our leaders are cowards and we can't do anything about it.  #GazaUnderAttack #SavePalestine #AlAqsaUnderAttack #Palestine #Gaza @OIC_OCI @MWLOrg_en @RTErdogan  https://t.co/frbsUBVA4I\n",
            "1391905891855867904 2021-05-10 23:59:59 +0000 <The_Ghamrawy> كسم اسرائيل  #SavePalestine #فلسطين_تنتفض  https://t.co/Ug8fiyKfcU\n",
            "1391905891545489413 2021-05-10 23:59:59 +0000 <theElham1> \"لأجلكِ يا بهيّة المساكِن.. يا زهرة المدائِن\"   #FreePalestine #SavePalestine #SaveSheikhJarrah  https://t.co/ZXx43mSjco\n",
            "1391905891272728579 2021-05-10 23:59:59 +0000 <tawinsgf> this isn't all about religion its about humility, lets help them by spreading awareness and be educated on whats happening #FreePalestine #SaveSheikhJarrah #SavePalestine #AlAqsaUnderAttack  https://t.co/uUaji5PO0e\n",
            "1391905891084115969 2021-05-10 23:59:59 +0000 <bIackieswan> @ozvantae There is cruelty in Palestine do not share in the savagery by staying silent Filistin'de zulüm var, sessiz kalarak bu vahşete sessiz kalmayın   هناك اضطهاد في فلسطين ، فلا تنضم إلى الوحشية بالتزام الصمت  #IsraeliAttackonAlAqsa #SavePalestine  #PrayForPalestine\n",
            "1391905890635325443 2021-05-10 23:59:59 +0000 <esdipity> @tegukssi There is cruelty in Palestine do not share in the savagery by staying silent Filistin'de zulüm var, sessiz kalarak bu vahşete sessiz kalmayın   هناك اضطهاد في فلسطين ، فلا تنضم إلى الوحشية بالتزام الصمت  #IsraeliAttackonAlAqsa #SavePalestine  #PrayForPalestine\n",
            "1391905889112756230 2021-05-10 23:59:58 +0000 <catlinovv> @SE0CHANGB1N_ M There is cruelty in Palestine do not share in the savagery by staying silent Filistin'de zulüm var, sessiz kalarak bu vahşete sessiz kalmayın   هناك اضطهاد في فلسطين ، فلا تنضم إلى الوحشية بالتزام الصمت  #IsraeliAttackonAlAqsa #SavePalestine  #PrayForPalestine\n",
            "1391905888944984070 2021-05-10 23:59:58 +0000 <banbangtaehyung> @Ssananebundann @Yumiyoongimeow There is cruelty in Palestine do not share in the savagery by staying silent Filistin'de zulüm var, susarak bu vahşete sessiz kalmayın   هناك اضطهاد في فلسطين ، فلا تنضم إلى الوحشية بالتزام الصمت  #IsraeliAttackonAlAqsa #SavePalestine  #PrayForPalestine\n",
            "1391905888592613379 2021-05-10 23:59:58 +0000 <J3ON1LY> @buterflys_ There is cruelty in Palestine do not share in the savagery by staying silent Filistin'de zulüm var, sessiz kalarak bu vahşete sessiz kalmayın   هناك اضطهاد في فلسطين ، فلا تنضم إلى الوحشية بالتزام الصمت  #IsraeliAttackonAlAqsa #SavePalestine  #PrayForPalestine\n",
            "1391905888001212418 2021-05-10 23:59:58 +0000 <Asmaa_Nawar1> يارب الطف بإخواتنا في فلسطين و انصرهم و رد كيد المعتدين 🙌🏻 أكتر وقت اتمنيت فيه إن الحدود تختفي  و أروح أفدي ترابها بدمي..  #القدس_تنتفض #فلسطين_تنتفض  #فلسطين_قضيتنا_الأولى  #انقذوا_حي_الشيخ_جراح  #SavePalestine  #SaveSheikhJarrah  #PalestinianLivesMatter\n",
            "1391905887820951553 2021-05-10 23:59:58 +0000 <sugaa18921334> @hepinizinamkyaa There is cruelty in Palestine do not share in the savagery by staying silent Filistin'de zulüm var, sessiz kalarak bu vahşete sessiz kalmayın   هناك اضطهاد في فلسطين ، فلا تنضم إلى الوحشية بالتزام الصمت  #IsraeliAttackonAlAqsa #SavePalestine  #PrayForPalestine\n",
            "1391905887309111296 2021-05-10 23:59:58 +0000 <Oppomi3> A Palestinian mother.  north of Gaza. 😔💔🇵🇸 #GazaUnderAttack #SavePalestine  #SaveSheikhJarrah  https://t.co/bPFX0Xs8He\n",
            "1391905887174922240 2021-05-10 23:59:58 +0000 <dandyboyskz_> @bsraisaan There is cruelty in Palestine do not share in the savagery by staying silent Filistin'de zulüm var, sessiz kalarak bu vahşete sessiz kalmayın   هناك اضطهاد في فلسطين ، فلا تنضم إلى الوحشية بالتزام الصمت  #IsraeliAttackonAlAqsa #SavePalestine  #PrayForPalestine\n",
            "1391905886986252288 2021-05-10 23:59:58 +0000 <_Karmerester_> @_pitis16_ @houseofmarla @BTS_twt There is cruelty in Palestine do not share in the savagery by staying silent Filistin'de zulüm var, sessiz kalarak bu vahşete sessiz kalmayın   هناك اضطهاد في فلسطين ، فلا تنضم إلى الوحشية بالتزام الصمت  #IsraeliAttackonAlAqsa #SavePalestine  #PrayForPalestine\n",
            "1391905885727961090 2021-05-10 23:59:58 +0000 <nisaarenis> @bangtanysa There is cruelty in Palestine do not share in the savagery by staying silent Filistin'de zulüm var, sessiz kalarak bu vahşete sessiz kalmayın   هناك اضطهاد في فلسطين ، فلا تنضم إلى الوحشية بالتزام الصمت  #IsraeliAttackonAlAqsa #SavePalestine  #PrayForPalestine\n",
            "1391905885673377797 2021-05-10 23:59:58 +0000 <fondresilax> @milkndvkookies @nawithjk There is cruelty in Palestine do not share in the savagery by staying silent Filistin'de zulüm var, sessiz kalarak bu vahşete sessiz kalmayın   هناك اضطهاد في فلسطين ، فلا تنضم إلى الوحشية بالتزام الصمت  #IsraeliAttackonAlAqsa #SavePalestine  #PrayForPalestine\n",
            "1391905884612202497 2021-05-10 23:59:57 +0000 <yoonglessoftie> What our brothers and sisters are going through rn is what gives me the strength to keep on practicing my beautiful religion in the best way i could, it gives me the motivation i need to go and pray, so that i could pray and make duaas for them #SaveSheikhJarrah #SavePalestine\n",
            "1391905883051986944 2021-05-10 23:59:57 +0000 <Adv_302> مسجد اقصی کے احاطے میں لگی آگ پر اسرائیلی شہری خوشی منا رہے ہیں اسرائیلی فورسز کے حملے سے مسجد کی مغربی دیوار کی جانب احاطے میں آگ بھڑک اٹھی ہے. #GazaUnderAttack #SaveSheikhJarrah #savePalestine #AlQuds #IsraeliCrimes #SaveGaza  https://t.co/jPjlhRMCtX\n",
            "1391905882502533124 2021-05-10 23:59:57 +0000 <joonlover123> Dua for Palestine #Palestine #SaveSheikhJarrah #AlAqsaMosque #SavePalestine #FreePalestine @/s.vbr on insta (a thread)  https://t.co/FhNFU2kNbK\n",
            "1391905882175311874 2021-05-10 23:59:57 +0000 <omarabualhijaa> #انقذوا_حي_الشيخ_جراح #أنقذو_حي_الشيخ_جراح #انقذوا_حي_الشيخ_الجراح #حي_الشيخ_جراح #حي_الشيخ_الجراح #القدس_تنتفض #القدس_اقرب #المسجد_الأقصى #أنا_عقبة #فلسطين #غزة_تقصف   #SheikJarrah #SaveSheikhJarrah #SavePalestine #PalestineWillBeFree #AlAqsaMosque #GazaUnderAttack  #Palestine\n",
            "1391905881999036416 2021-05-10 23:59:57 +0000 <baekwinwin_> Temen-temen, ayo luangin waktu sebentar untuk mendoakan semua sodara kita di sana. Ya Allah lindungilah semua muslim di sana, Aamiin🤲🏻  #SavePalestine  #SaveSheikhJarrah  #AlAqsaUnderAttack  https://t.co/TpUewiTfXA\n",
            "1391905881898500097 2021-05-10 23:59:57 +0000 <jimin_s_hair> @fairychimtr There is cruelty in Palestine do not share in the savagery by staying silent Filistin'de zulüm var, sessiz kalarak bu vahşete sessiz kalmayın   هناك اضطهاد في فلسطين ، فلا تنضم إلى الوحشية بالتزام الصمت  #IsraeliAttackonAlAqsa #SavePalestine  #PrayForPalestine\n",
            "1391905881797836804 2021-05-10 23:59:57 +0000 <jichasy> #SavePalestine\n",
            "1391905880791126021 2021-05-10 23:59:56 +0000 <jinnienthusiast> My timeline is full of my moots sharing about Palestine issue. Im so proud of Armys who are concern about this matter. 🥺💜 #SavePalestine #PalestinianLivesMatter\n",
            "1391905880703000576 2021-05-10 23:59:56 +0000 <mintesuga> Please spend a few seconds to read qunut nazilah. Harini kaum yg dilaknat Allah telah play victim. Semoga kita dan saudara2 kita di Palestine dirahmati Allah 💜  #SavePalestine #SaveSheikhJarrah  https://t.co/xBXHLG7Vef\n",
            "1391905878949957634 2021-05-10 23:59:56 +0000 <MekkyNeamat> #غزه_تحت_القصف #القدس_ينتفض #فلسطين_تنتفض #حي_الشيخ_الجراح #الأقصى_ينتفض #SavePalestine #AlAqsaUnderAttack #Palestine #Gaza #AlQuds  https://t.co/eQL1BFRjwh\n",
            "1391905877448269824 2021-05-10 23:59:56 +0000 <SpOsamaAnsari50> #palestine  \"What is my relationship with you?\"  لآ اِلَهَ اِلّا اللّهُ مُحَمَّدٌ رَسُوُل اللّه To Israel from India!   #IndiaStandsWithPalestine  #SavePalestine #FreePalestine #GazaUnderAttack  https://t.co/CE0kJa7aZP\n",
            "1391905877184061442 2021-05-10 23:59:56 +0000 <enha_tdog> I'm sobbing 😭😭😭 #SavePalestine\n",
            "1391905876869591040 2021-05-10 23:59:56 +0000 <Nehirmisim> @HOP3ILOVE There is cruelty in Palestine do not share in the savagery by staying silent Filistin'de zulüm var, sessiz kalarak bu vahşete sessiz kalmayın   هناك اضطهاد في فلسطين ، فلا تنضم إلى الوحشية بالتزام الصمت  #IsraeliAttackonAlAqsa #SavePalestine  #PrayForPalestine\n",
            "1391905876081102854 2021-05-10 23:59:55 +0000 <velhosoek_> #savesheikhjarrah #الاقصي  #انقذوا_حي_الشيخ_جراح  #القدس_تنتفض  #savesheikhjarrah #savepalestine #prayforpalestina #savegaza #savealaqsa #prayforpalestine #prayforgaza🇰🇼\n",
            "1391905875737026563 2021-05-10 23:59:55 +0000 <Dust_InTheAir> If I see the word \"clash\" one more time I'm going to lose it. Israeli forces are attacking Palestinians with such brute force. Its shown in the videos clear as day that have been circulating online. How could you call this a clash? #SavePalestine #FreePalestine #SheikhJarah\n",
            "1391905875242201088 2021-05-10 23:59:55 +0000 <nihizm> @baelistj There is cruelty in Palestine do not share in the savagery by staying silent Filistin'de zulüm var, sessiz kalarak bu vahşete sessiz kalmayın   هناك اضطهاد في فلسطين ، فلا تنضم إلى الوحشية بالتزام الصمت  #IsraeliAttackonAlAqsa #SavePalestine  #PrayForPalestine\n",
            "1391905874034139136 2021-05-10 23:59:55 +0000 <Nazimahmed65> Why muslim nation is silent 😶? Why world Un is silent  #SavePalestine\n",
            "1391905873862275080 2021-05-10 23:59:55 +0000 <hoseooko> #SavePalestine\n",
            "1391905873535066116 2021-05-10 23:59:55 +0000 <AsadShakoor_> The world has gone blind but The Almighty is watching. Each and everyone of you cowards (Blind international Organisations, Super powers and Media) will rot in hell In sha Allah.  #GazaUnderAttack #SavePalestine  #AlAqsaUnderAttack #Jerusalem #MasjidAlAqsa  https://t.co/qPGdyGEGRk\n",
            "1391905872918503429 2021-05-10 23:59:55 +0000 <atiny11_g> لا سَلام مع الكيان الصهيوني #SaveSheikhJarraj   #SavePalestine #القدس_ينتفض\n",
            "1391905872817836035 2021-05-10 23:59:55 +0000 <TaliShapiro> #PHOTO || Occupation forces are trucking tanks into occupied #Lydd.  #GazaUnderAttack #AlAqsaMosque #SaveSheikhJarrah #SavePalestine\n",
            "1391905872582873089 2021-05-10 23:59:55 +0000 <downthestreets> #AlAqsaUnderAttack  #SavePalestine #SaveSheikhJarrah   zionists are suck\n",
            "1391905871823769601 2021-05-10 23:59:54 +0000 <flowerandnini> @waitngltblive @starlessmimi There is cruelty in Palestine do not share in the savagery by staying silent Filistin'de zulüm var, sessiz kalarak bu vahşete sessiz kalmayın   هناك اضطهاد في فلسطين ، فلا تنضم إلى الوحشية بالتزام الصمت  #IsraeliAttackonAlAqsa #SavePalestine  #PrayForPalestine\n",
            "1391905871718883328 2021-05-10 23:59:54 +0000 <osakawonki> @hoonselca Save Humanity.  #SavePalestine #SaveSheikhJarrah #SheikhJarrah\n",
            "1391905870955655169 2021-05-10 23:59:54 +0000 <jinask9> @jieunsource FREE PALESTINE  #SaveSheikhJarraj   #SavePalestine #القدس_ينتفض\n",
            "1391905870578167808 2021-05-10 23:59:54 +0000 <Mss_Aysu> @staydegilkalmak @Busbus_sa There is cruelty in Palestine do not share in the savagery by staying silent Filistin'de zulüm var, sessiz kalarak bu vahşete sessiz kalmayın   هناك اضطهاد في فلسطين ، فلا تنضم إلى الوحشية بالتزام الصمت  #IsraeliAttackonAlAqsa #SavePalestine  #PrayForPalestine\n",
            "1391905870171328514 2021-05-10 23:59:54 +0000 <SeherNaz_b> @sonbaaharn There is cruelty in Palestine do not share in the savagery by staying silent Filistin'de zulüm var, sessiz kalarak bu vahşete sessiz kalmayın   هناك اضطهاد في فلسطين ، فلا تنضم إلى الوحشية بالتزام الصمت  #IsraeliAttackonAlAqsa #SavePalestine  #PrayForPalestine\n",
            "1391905868606627842 2021-05-10 23:59:54 +0000 <Tomhen2> #AlAqsaUnderAttack  #SavePalestine\n",
            "1391905865939173378 2021-05-10 23:59:53 +0000 <areegesawy2000> #SavePalestine  #GazaUnderAttack  #Gaza  #AlAqsaUnderAttack  #AlAqsaMosque  #AqsaUnderAttack\n",
            "1391905865209458690 2021-05-10 23:59:53 +0000 <shitbi131> @KJWN95 There is cruelty in Palestine do not share in the savagery by staying silent Filistin'de zulüm var, sessiz kalarak bu vahşete sessiz kalmayın   هناك اضطهاد في فلسطين ، فلا تنضم إلى الوحشية بالتزام الصمت  #IsraeliAttackonAlAqsa #SavePalestine  #PrayForPalestine\n",
            "1391905863703699458 2021-05-10 23:59:52 +0000 <gulfe22> #SavePalestine\n",
            "1391905863477104643 2021-05-10 23:59:52 +0000 <EkmekHaeri> @blairazel There is cruelty in Palestine do not share in the savagery by staying silent Filistin'de zulüm var, sessiz kalarak bu vahşete sessiz kalmayın   هناك اضطهاد في فلسطين ، فلا تنضم إلى الوحشية بالتزام الصمت  #IsraeliAttackonAlAqsa #SavePalestine  #PrayForPalestine\n",
            "1391905862290190338 2021-05-10 23:59:52 +0000 <marsdabirdeli> @nida_samsa There is cruelty in Palestine do not share in the savagery by staying silent Filistin'de zulüm var, sessiz kalarak bu vahşete sessiz kalmayın   هناك اضطهاد في فلسطين ، فلا تنضم إلى الوحشية بالتزام الصمت  #IsraeliAttackonAlAqsa #SavePalestine  #PrayForPalestine\n",
            "1391905861505855488 2021-05-10 23:59:52 +0000 <7whysoserious> @got7turkey #IsraeliAttackonAlAqsa #SavePalestine  #PrayForPalestine\n",
            "1391905860528623616 2021-05-10 23:59:52 +0000 <MonaBasal1> #SavePalestine  https://t.co/ufHRPT913S\n",
            "1391905857248665600 2021-05-10 23:59:51 +0000 <BANGTANINDELISI> @uniytae There is cruelty in Palestine do not share in the savagery by staying silent Filistin'de zulüm var, sessiz kalarak bu vahşete sessiz kalmayın   هناك اضطهاد في فلسطين ، فلا تنضم إلى الوحشية بالتزام الصمت  #IsraeliAttackonAlAqsa #SavePalestine  #PrayForPalestine\n",
            "1391905857072414722 2021-05-10 23:59:51 +0000 <Babsswiftie> LETS USE OUR VOICES! DONT IGNORE!! PPL ARE GETTING KILLED IN PALESTINE! HELP THEM!  #FreePalestine #SavePalestine #SaveSheikhJarrah\n",
            "1391905856820809731 2021-05-10 23:59:51 +0000 <seldemseverr> @buterflys_ There is cruelty in Palestine do not share in the savagery by staying silent Filistin'de zulüm var, sessiz kalarak bu vahşete sessiz kalmayın   هناك اضطهاد في فلسطين ، فلا تنضم إلى الوحشية بالتزام الصمت  #IsraeliAttackonAlAqsa #SavePalestine  #PrayForPalestine\n",
            "1391905854937518081 2021-05-10 23:59:50 +0000 <11opia> @Exofanbase FREE PALESTINE  #SavePalestine #SaveSheikhJarrah  #AlAqsaUnderAttack\n",
            "1391905854010576899 2021-05-10 23:59:50 +0000 <abeautifultaqwa> We may cry now in this life for our oppressed brothers, but enemies of Islam will cry infinitely in Jahannam. Wait for your turn. Be Patient, O Palestinians.   May Allaah comfort their soul, as Allaah is with the patients.  #SavePalestine #SaveSheikhJarrah 🤲  https://t.co/SMyEt27DHg\n",
            "1391905853511450626 2021-05-10 23:59:50 +0000 <asahismeow> @shitbi131 There is cruelty in Palestine do not share in the savagery by staying silent Filistin'de zulüm var, sessiz kalarak bu vahşete sessiz kalmayın   هناك اضطهاد في فلسطين ، فلا تنضم إلى الوحشية بالتزام الصمت  #IsraeliAttackonAlAqsa #SavePalestine  #PrayForPalestine\n",
            "1391905852127330306 2021-05-10 23:59:50 +0000 <yagmurkiraz2_> @defnecaglaltd #SaveSheikhJarrah #SavePalestine\n",
            "1391905850827034627 2021-05-10 23:59:49 +0000 <osakawonki> @jaywonsbby Save Humanity.  #SavePalestine #SaveSheikhJarrah #SheikhJarrah\n",
            "1391905850537611264 2021-05-10 23:59:49 +0000 <sugassight7> My heart is truly breaking seeing what's happening in palestine right now. Ya  Allah, protect them the Palestine fighters, the defenders of al Aqsa 🤲🏻  #SavePalestine #SaveSheikhJarrah #AlAqsaMosque\n",
            "1391905850516770818 2021-05-10 23:59:49 +0000 <catlinovv> @SE0CHANGB1N_ K There is cruelty in Palestine do not share in the savagery by staying silent Filistin'de zulüm var, sessiz kalarak bu vahşete sessiz kalmayın   هناك اضطهاد في فلسطين ، فلا تنضم إلى الوحشية بالتزام الصمت  #IsraeliAttackonAlAqsa #SavePalestine  #PrayForPalestine\n",
            "1391905850231562244 2021-05-10 23:59:49 +0000 <esdipity> @bangtanis7_2 There is cruelty in Palestine do not share in the savagery by staying silent Filistin'de zulüm var, sessiz kalarak bu vahşete sessiz kalmayın   هناك اضطهاد في فلسطين ، فلا تنضم إلى الوحشية بالتزام الصمت  #IsraeliAttackonAlAqsa #SavePalestine  #PrayForPalestine\n",
            "1391905849979949056 2021-05-10 23:59:49 +0000 <beebjisoo> #انقذوا_حي_الشيخ_جراح #SavePalestine #SaveSheikhJarrah #FreePalestine #فلسطين_قضيتنا_الأولى #فلسطين_قضيتي  https://t.co/fZHsDjgtCg\n",
            "1391905848952299523 2021-05-10 23:59:49 +0000 <bibistormm> #القدس_ينتفض #فلسطين_تنتفض #غزة_تحت_القصف #حي_الشيخ_الجراح #AlAqsaUnderAttack #SavePalestine #AlAqsaMosque #Gaza #Palestine\n",
            "1391905848255991813 2021-05-10 23:59:49 +0000 <mkemmeliyeti3> @yoongicik_16 There is cruelty in Palestine do not share in the savagery by staying silent Filistin'de zulüm var, sessiz kalarak bu vahşete sessiz kalmayın   هناك اضطهاد في فلسطين ، فلا تنضم إلى الوحشية بالتزام الصمت  #IsraeliAttackonAlAqsa #SavePalestine  #PrayForPalestine\n",
            "1391905847920496640 2021-05-10 23:59:49 +0000 <8tillwithyou> @Yeontans_Fan There is cruelty in Palestine do not share in the savagery by staying silent Filistin'de zulüm var, sessiz kalarak bu vahşete sessiz kalmayın   هناك اضطهاد في فلسطين ، فلا تنضم إلى الوحشية بالتزام الصمت  #IsraeliAttackonAlAqsa #SavePalestine  #PrayForPalestine #AlAqsaUnderAttack\n",
            "1391905847651995648 2021-05-10 23:59:49 +0000 <Nehirmisim> @ZHJ1M1N There is cruelty in Palestine do not share in the savagery by staying silent Filistin'de zulüm var, sessiz kalarak bu vahşete sessiz kalmayın   هناك اضطهاد في فلسطين ، فلا تنضم إلى الوحشية بالتزام الصمت  #IsraeliAttackonAlAqsa #SavePalestine  #PrayForPalestine\n",
            "1391905846360121344 2021-05-10 23:59:48 +0000 <SamiulK07685973> @ErlingHaaland #SavePalestine\n",
            "1391905845651324928 2021-05-10 23:59:48 +0000 <bwniesirena4> @ucansavher There is cruelty in Palestine do not share in the savagery by staying silent Filistin'de zulüm var, sessiz kalarak bu vahşete sessiz kalmayın   هناك اضطهاد في فلسطين ، فلا تنضم إلى الوحشية بالتزام الصمت #IsraeliAttackonAlAqsa #SavePalestine  #PrayForPalestine\n",
            "1391905844036620293 2021-05-10 23:59:48 +0000 <vantekgook> Ne yazıcağımı bilmiyorum gördükçe kötü oluyorum bi şansım olsa bir dakika durmam şu dünaya da #IsraeliAttackonAlAqsa #SavePalestine  #PrayForPalestine\n",
            "1391905843021434882 2021-05-10 23:59:47 +0000 <nugrahma> @republikaonline #SavePalestine #SaveGaza #AlAqsaUnderAttack\n",
            "1391905842493022211 2021-05-10 23:59:47 +0000 <_Rahema_Sidd> @so_bnmghr @rmarchives @archivefortae #SavePalestine #Palestinian #WakeUpMuslimUmmah #SaveSheikhJarrah #SaveSheikhJarrahFreedom #AlAqsaUnderAttack #AlAqsaMosque #PalestineWillBeFree #PrayForPalestine #PalestiniansLivesMatter #FreePalestine #GazaUnderAttack #Gaza #Gazze #حي_الشيخ_الجراح #فلسطين_تنتفض #المسجد_الأقصى  https://t.co/rDaxcuEXKT\n",
            "1391905841373196291 2021-05-10 23:59:47 +0000 <serah289> @fatimazsaid @yxtaesuh #FreePalestine #SaveSheikhJarrah #SavePalestine\n",
            "1391905840404131841 2021-05-10 23:59:47 +0000 <ashraffesalleh> Al-Qassam, you have all the support from Muslims worldwide. We always pray for you. 🇵🇸 #SavePalestine\n",
            "1391905840106516485 2021-05-10 23:59:47 +0000 <Mss_Aysu> @GeniusLabTR @Busbus_sa There is cruelty in Palestine do not share in the savagery by staying silent Filistin'de zulüm var, sessiz kalarak bu vahşete sessiz kalmayın   هناك اضطهاد في فلسطين ، فلا تنضم إلى الوحشية بالتزام الصمت  #IsraeliAttackonAlAqsa #SavePalestine  #PrayForPalestine\n",
            "1391905838428835840 2021-05-10 23:59:46 +0000 <_taekookhoria> @LOVELYJ1M1N There is cruelty in Palestine do not share in the savagery by staying silent Filistin'de zulüm var, sessiz kalarak bu vahşete sessiz kalmayın   هناك اضطهاد في فلسطين ، فلا تنضم إلى الوحشية بالتزام الصمت  #IsraeliAttackonAlAqsa #SavePalestine  #PrayForPalestine\n",
            "1391905838181273600 2021-05-10 23:59:46 +0000 <cileknobuo> @imnfairy There is cruelty in Palestine do not share in the savagery by staying silent Filistin'de zulüm var, sessiz kalarak bu vahşete sessiz kalmayın   هناك اضطهاد في فلسطين ، فلا تنضم إلى الوحشية بالتزام الصمت  #IsraeliAttackonAlAqsa #SavePalestine  #PrayForPalestine\n",
            "1391905837560573952 2021-05-10 23:59:46 +0000 <risus210> @_lovesickgirll_ Sırf boktan fan sayfaları kirlenmesin diye 😔 bu zulmü yapanlar kadar oruspu çocukları #IsraeliAttackonAlAqsa #SavePalestine  #PrayForPalestine\n",
            "1391905836927127554 2021-05-10 23:59:46 +0000 <icaalicey> gak bisa bantu apa2 buat Palestine, cuma bisa kirim do'a yg terbaik buat mereka. semoga senantiasa dalam lindungan Allah SWT. 🙏🏻😢  FREE PALESTINE!  #SavePalestine #SaveSheikhJarrah  #AlAqsaUnderAttack  https://t.co/RK6IPVuOON\n",
            "1391905835018825732 2021-05-10 23:59:46 +0000 <banbangtaehyung> @aurbeo @Yumiyoongimeow There is cruelty in Palestine do not share in the savagery by staying silent Filistin'de zulüm var, susarak bu vahşete sessiz kalmayın   هناك اضطهاد في فلسطين ، فلا تنضم إلى الوحشية بالتزام الصمت  #IsraeliAttackonAlAqsa #SavePalestine  #PrayForPalestine\n",
            "1391905834381234183 2021-05-10 23:59:45 +0000 <koyosaii> @HunterGodness There is cruelty in Palestine do not share in the savagery by staying silent Filistin'de zulüm var, sessiz kalarak bu vahşete sessiz kalmayın   هناك اضطهاد في فلسطين ، فلا تنضم إلى الوحشية بالتزام الصمت  #IsraeliAttackonAlAqsa #SavePalestine  #PrayForPalestine\n",
            "1391905832086999045 2021-05-10 23:59:45 +0000 <ptiTwiter> We are Muslims but that 313 spirit is no more.  Faith is not strong, so the bubbles don't come.  All are the effects of sectarianism.  Hold a rope, then look at the power. #SavePalestine\n",
            "1391905831940206594 2021-05-10 23:59:45 +0000 <catlinovv> @SE0CHANGB1N_ J There is cruelty in Palestine do not share in the savagery by staying silent Filistin'de zulüm var, sessiz kalarak bu vahşete sessiz kalmayın   هناك اضطهاد في فلسطين ، فلا تنضم إلى الوحشية بالتزام الصمت  #IsraeliAttackonAlAqsa #SavePalestine  #PrayForPalestine\n",
            "1391905831617183745 2021-05-10 23:59:45 +0000 <AzeemHafeez_> @IDF #IsraeliTerrorism #SavePalestine #AlAqsaUnderAttack #FreePalestine\n",
            "1391905830539337730 2021-05-10 23:59:45 +0000 <VM1NLJ> @taelixonn There is cruelty in Palestine do not share in the savagery by staying silent Filistin'de zulüm var, sessiz kalarak bu vahşete sessiz kalmayın   هناك اضطهاد في فلسطين ، فلا تنضم إلى الوحشية بالتزام الصمت  #IsraeliAttackonAlAqsa #SavePalestine  #PrayForPalestine\n",
            "1391905830136471558 2021-05-10 23:59:44 +0000 <osakawonki> @sunghoonini Save Humanity.  #SavePalestine #SaveSheikhJarrah #SheikhJarrah\n",
            "1391905828073050114 2021-05-10 23:59:44 +0000 <fondresilax> @army_tokii @iamjuventus There is cruelty in Palestine do not share in the savagery by staying silent Filistin'de zulüm var, sessiz kalarak bu vahşete sessiz kalmayın   هناك اضطهاد في فلسطين ، فلا تنضم إلى الوحشية بالتزام الصمت  #IsraeliAttackonAlAqsa #SavePalestine  #PrayForPalestine\n",
            "1391905826537807874 2021-05-10 23:59:44 +0000 <faa61497> @kadhynee Semoga mereka selalu dalam lindungan-Nya🙏🙏 #SaveSheikhJarrah #SavePalestine #AlAqsaUnderAttack  https://t.co/hm8YJinZdl\n",
            "1391905826185613313 2021-05-10 23:59:43 +0000 <soondingiexol> @Ex9onearewe There is cruelty in Palestine do not share in the savagery by staying silent Filistin'de zulüm var, sessiz kalarak bu vahşete sessiz kalmayın   هناك اضطهاد في فلسطين ، فلا تنضم إلى الوحشية بالتزام الصمت  #IsraeliAttackonAlAqsa #SavePalestine  #PrayForPalestine SSCB'li\n",
            "1391905824952442883 2021-05-10 23:59:43 +0000 <myfmlyisjjk> @singularitylls There is cruelty in Palestine do not share in the savagery by staying silent Filistin'de zulüm var, sessiz kalarak bu vahşete sessiz kalmayın   هناك اضطهاد في فلسطين ، فلا تنضم إلى الوحشية بالتزام الصمت  #IsraeliAttackonAlAqsa #SavePalestine  #PrayForPalestine\n"
          ],
          "name": "stdout"
        }
      ]
    },
    {
      "cell_type": "markdown",
      "metadata": {
        "id": "byyabP1Ic_o6"
      },
      "source": [
        "## Check Result"
      ]
    },
    {
      "cell_type": "code",
      "metadata": {
        "id": "nlLgY3_tgT6c"
      },
      "source": [
        "ls"
      ],
      "execution_count": null,
      "outputs": []
    },
    {
      "cell_type": "code",
      "metadata": {
        "colab": {
          "base_uri": "https://localhost:8080/"
        },
        "id": "07QAxdW1X2yh",
        "outputId": "4d86b345-a191-40f8-bd80-22611d41d6b2"
      },
      "source": [
        "cat result.csv"
      ],
      "execution_count": 52,
      "outputs": [
        {
          "output_type": "stream",
          "text": [
            "id,conversation_id,created_at,date,time,timezone,user_id,username,name,place,tweet,language,mentions,urls,photos,replies_count,retweets_count,likes_count,hashtags,cashtags,link,retweet,quote_url,video,thumbnail,near,geo,source,user_rt_id,user_rt,retweet_id,reply_to,retweet_date,translate,trans_src,trans_dest\r\n",
            "1391905893311205376,1391905893311205376,2021-05-10 23:59:59 UTC,2021-05-10,23:59:59,+0000,4915886765,i_am_awan,اعوان,,Malala can't speak against her sponsors because dollars are more important than Muslims. #Gaza #GazaUnderAttack #SavePalestine #SupportGaza,en,[],[],[],0,0,2,\"['gaza', 'gazaunderattack', 'savepalestine', 'supportgaza']\",[],https://twitter.com/I_am_Awan/status/1391905893311205376,False,https://twitter.com/Malala/status/1391790074774310914,0,,,,,,,,[],,,,\r\n",
            "1391905892178685954,1391905892178685954,2021-05-10 23:59:59 UTC,2021-05-10,23:59:59,+0000,792231014609235968,moink9504,MOIN Ali KHAN †,,Ya Allah .... Forgive us that we are unable to save your home from heinous creatures of Israel . Forgive us that our leaders are cowards and we can't do anything about it.  #GazaUnderAttack #SavePalestine #AlAqsaUnderAttack #Palestine #Gaza @OIC_OCI @MWLOrg_en @RTErdogan  https://t.co/frbsUBVA4I,en,\"[{'screen_name': 'oic_oci', 'name': 'oic', 'id': '329562672'}, {'screen_name': 'mwlorg_en', 'name': 'muslim world league', 'id': '768019865777139712'}, {'screen_name': 'rterdogan', 'name': 'recep tayyip erdoğan', 'id': '68034431'}]\",[],\"['https://pbs.twimg.com/media/E1ELBZ2VcAEi1kl.jpg', 'https://pbs.twimg.com/media/E1ELBlvUUAE8y_2.jpg', 'https://pbs.twimg.com/media/E1ELBzeUcAALmC_.jpg', 'https://pbs.twimg.com/media/E1ELCCtVkAMrk0f.jpg']\",0,0,1,\"['gazaunderattack', 'savepalestine', 'alaqsaunderattack', 'palestine', 'gaza']\",[],https://twitter.com/MoinK9504/status/1391905892178685954,False,,1,https://pbs.twimg.com/media/E1ELBZ2VcAEi1kl.jpg,,,,,,,[],,,,\r\n",
            "1391905891855867904,1391905891855867904,2021-05-10 23:59:59 UTC,2021-05-10,23:59:59,+0000,570950677,the_ghamrawy,Ganza(Champions of Europe),,كسم اسرائيل  #SavePalestine #فلسطين_تنتفض  https://t.co/Ug8fiyKfcU,ar,[],[],['https://pbs.twimg.com/media/E1EK2KJWQAAd2DA.jpg'],0,0,0,\"['savepalestine', 'فلسطين_تنتفض']\",[],https://twitter.com/The_Ghamrawy/status/1391905891855867904,False,,1,https://pbs.twimg.com/media/E1EK2KJWQAAd2DA.jpg,,,,,,,[],,,,\r\n",
            "1391905891545489413,1391905891545489413,2021-05-10 23:59:59 UTC,2021-05-10,23:59:59,+0000,777554054130073600,theelham1,إلهام الله يرزقها ما تتمنّى.,,\"\"\"لأجلكِ يا بهيّة المساكِن.. يا زهرة المدائِن\"\"   #FreePalestine #SavePalestine #SaveSheikhJarrah  https://t.co/ZXx43mSjco\",ar,[],[],['https://pbs.twimg.com/media/E1EKgakWEAMD4lP.jpg'],0,5,18,\"['freepalestine', 'savepalestine', 'savesheikhjarrah']\",[],https://twitter.com/theElham1/status/1391905891545489413,False,,1,https://pbs.twimg.com/media/E1EKgakWEAMD4lP.jpg,,,,,,,[],,,,\r\n",
            "1391905891272728579,1391905891272728579,2021-05-10 23:59:59 UTC,2021-05-10,23:59:59,+0000,1250315278639960067,tawinsgf,aya o.,,\"this isn't all about religion its about humility, lets help them by spreading awareness and be educated on whats happening #FreePalestine #SaveSheikhJarrah #SavePalestine #AlAqsaUnderAttack  https://t.co/uUaji5PO0e\",en,[],[],['https://pbs.twimg.com/media/E1ELBpvVIAUlJsW.jpg'],0,7,8,\"['freepalestine', 'savesheikhjarrah', 'savepalestine', 'alaqsaunderattack']\",[],https://twitter.com/tawinsgf/status/1391905891272728579,False,,1,https://pbs.twimg.com/media/E1ELBpvVIAUlJsW.jpg,,,,,,,[],,,,\r\n",
            "1391905891084115969,1391872459717107716,2021-05-10 23:59:59 UTC,2021-05-10,23:59:59,+0000,1269037067792678912,biackieswan,mon rexha,,\"@ozvantae There is cruelty in Palestine do not share in the savagery by staying silent Filistin'de zulüm var, sessiz kalarak bu vahşete sessiz kalmayın   هناك اضطهاد في فلسطين ، فلا تنضم إلى الوحشية بالتزام الصمت  #IsraeliAttackonAlAqsa #SavePalestine  #PrayForPalestine\",und,[],[],[],0,0,0,\"['israeliattackonalaqsa', 'savepalestine', 'prayforpalestine']\",[],https://twitter.com/bIackieswan/status/1391905891084115969,False,,0,,,,,,,,\"[{'screen_name': 'ozvantae', 'name': 'tete’s buttercup 🐑🐏', 'id': '1351237417584488456'}]\",,,,\r\n",
            "1391905890635325443,1391890553688711177,2021-05-10 23:59:59 UTC,2021-05-10,23:59:59,+0000,1192856565444947969,esdipity,esma⁷,,\"@tegukssi There is cruelty in Palestine do not share in the savagery by staying silent Filistin'de zulüm var, sessiz kalarak bu vahşete sessiz kalmayın   هناك اضطهاد في فلسطين ، فلا تنضم إلى الوحشية بالتزام الصمت  #IsraeliAttackonAlAqsa #SavePalestine  #PrayForPalestine\",und,[],[],[],0,0,0,\"['israeliattackonalaqsa', 'savepalestine', 'prayforpalestine']\",[],https://twitter.com/esdipity/status/1391905890635325443,False,,0,,,,,,,,\"[{'screen_name': 'tegukssi', 'name': 'lâlâ \\U0001f9c8 fav limiti yedi doydu', 'id': '1348752748582465538'}]\",,,,\r\n",
            "1391905889112756230,1391873189907677194,2021-05-10 23:59:58 UTC,2021-05-10,23:59:58,+0000,1237617501422391301,catlinovv,cat linov | Wolfgang 🐺,,\"@SE0CHANGB1N_ M There is cruelty in Palestine do not share in the savagery by staying silent Filistin'de zulüm var, sessiz kalarak bu vahşete sessiz kalmayın   هناك اضطهاد في فلسطين ، فلا تنضم إلى الوحشية بالتزام الصمت  #IsraeliAttackonAlAqsa #SavePalestine  #PrayForPalestine\",und,[],[],[],0,0,0,\"['israeliattackonalaqsa', 'savepalestine', 'prayforpalestine']\",[],https://twitter.com/catlinovv/status/1391905889112756230,False,,0,,,,,,,,\"[{'screen_name': 'SE0CHANGB1N_', 'name': 'seolix⛓but yavşak 🧷', 'id': '1342015842335252481'}]\",,,,\r\n",
            "1391905888944984070,1391882563162099715,2021-05-10 23:59:58 UTC,2021-05-10,23:59:58,+0000,1350158490317287430,banbangtaehyung,elysian⁷𓆙,,\"@Ssananebundann @Yumiyoongimeow There is cruelty in Palestine do not share in the savagery by staying silent Filistin'de zulüm var, susarak bu vahşete sessiz kalmayın   هناك اضطهاد في فلسطين ، فلا تنضم إلى الوحشية بالتزام الصمت  #IsraeliAttackonAlAqsa #SavePalestine  #PrayForPalestine\",und,[],[],[],0,2,1,\"['israeliattackonalaqsa', 'savepalestine', 'prayforpalestine']\",[],https://twitter.com/banbangtaehyung/status/1391905888944984070,False,,0,,,,,,,,\"[{'screen_name': 'Yumiyoongimeow', 'name': 'Avokado⁷🥑', 'id': '1222560089841840130'}]\",,,,\r\n",
            "1391905888592613379,1391899367771095040,2021-05-10 23:59:58 UTC,2021-05-10,23:59:58,+0000,1339516613238861824,j3on1ly,celialaoh⁷,,\"@buterflys_ There is cruelty in Palestine do not share in the savagery by staying silent Filistin'de zulüm var, sessiz kalarak bu vahşete sessiz kalmayın   هناك اضطهاد في فلسطين ، فلا تنضم إلى الوحشية بالتزام الصمت  #IsraeliAttackonAlAqsa #SavePalestine  #PrayForPalestine\",und,[],[],[],0,0,0,\"['israeliattackonalaqsa', 'savepalestine', 'prayforpalestine']\",[],https://twitter.com/J3ON1LY/status/1391905888592613379,False,,0,,,,,,,,\"[{'screen_name': 'buterflys_', 'name': 'B#tterfly \\U0001f9c8', 'id': '1226539858409201664'}]\",,,,\r\n",
            "1391905888001212418,1391905888001212418,2021-05-10 23:59:58 UTC,2021-05-10,23:59:58,+0000,1391095493002924032,asmaa_nawar1,Asmaa Nawar,,يارب الطف بإخواتنا في فلسطين و انصرهم و رد كيد المعتدين 🙌🏻 أكتر وقت اتمنيت فيه إن الحدود تختفي  و أروح أفدي ترابها بدمي..  #القدس_تنتفض #فلسطين_تنتفض  #فلسطين_قضيتنا_الأولى  #انقذوا_حي_الشيخ_جراح  #SavePalestine  #SaveSheikhJarrah  #PalestinianLivesMatter,ar,[],[],[],0,0,0,\"['القدس_تنتفض', 'فلسطين_تنتفض', 'فلسطين_قضيتنا_الأولى', 'انقذوا_حي_الشيخ_جراح', 'savepalestine', 'savesheikhjarrah', 'palestinianlivesmatter']\",[],https://twitter.com/Asmaa_Nawar1/status/1391905888001212418,False,,0,,,,,,,,[],,,,\r\n",
            "1391905887820951553,1391898180988583936,2021-05-10 23:59:58 UTC,2021-05-10,23:59:58,+0000,1335853335778390016,sugaa18921334,jjk1_suga._ | • REST • |,,\"@hepinizinamkyaa There is cruelty in Palestine do not share in the savagery by staying silent Filistin'de zulüm var, sessiz kalarak bu vahşete sessiz kalmayın   هناك اضطهاد في فلسطين ، فلا تنضم إلى الوحشية بالتزام الصمت  #IsraeliAttackonAlAqsa #SavePalestine  #PrayForPalestine\",und,[],[],[],0,0,0,\"['israeliattackonalaqsa', 'savepalestine', 'prayforpalestine']\",[],https://twitter.com/sugaa18921334/status/1391905887820951553,False,,0,,,,,,,,\"[{'screen_name': 'hepinizinamkyaa', 'name': 'ًًًً', 'id': '1348246023139950593'}]\",,,,\r\n",
            "1391905887309111296,1391905887309111296,2021-05-10 23:59:58 UTC,2021-05-10,23:59:58,+0000,1266775623353028608,oppomi3,عمر @,,A Palestinian mother.  north of Gaza. 😔💔🇵🇸 #GazaUnderAttack #SavePalestine  #SaveSheikhJarrah  https://t.co/bPFX0Xs8He,en,[],[],['https://pbs.twimg.com/media/E1ELBxkVIAAlQta.jpg'],0,0,1,\"['gazaunderattack', 'savepalestine', 'savesheikhjarrah']\",[],https://twitter.com/Oppomi3/status/1391905887309111296,False,,1,https://pbs.twimg.com/media/E1ELBxkVIAAlQta.jpg,,,,,,,[],,,,\r\n",
            "1391905887174922240,1391882542215741441,2021-05-10 23:59:58 UTC,2021-05-10,23:59:58,+0000,957204312114987008,dandyboyskz_,𝐁𝐚𝐞 🥑hyunjin best boy,,\"@bsraisaan There is cruelty in Palestine do not share in the savagery by staying silent Filistin'de zulüm var, sessiz kalarak bu vahşete sessiz kalmayın   هناك اضطهاد في فلسطين ، فلا تنضم إلى الوحشية بالتزام الصمت  #IsraeliAttackonAlAqsa #SavePalestine  #PrayForPalestine\",und,[],[],[],0,0,0,\"['israeliattackonalaqsa', 'savepalestine', 'prayforpalestine']\",[],https://twitter.com/dandyboyskz_/status/1391905887174922240,False,,0,,,,,,,,\"[{'screen_name': 'bsraisaan', 'name': 'Oğluşları ile mutlu', 'id': '1011634761817903105'}]\",,,,\r\n",
            "1391905886986252288,1391815476725043207,2021-05-10 23:59:58 UTC,2021-05-10,23:59:58,+0000,1386619310962003977,_karmerester_,Karméerester but kalbi ... 💜💙❤️,,\"@_pitis16_ @houseofmarla @BTS_twt There is cruelty in Palestine do not share in the savagery by staying silent Filistin'de zulüm var, sessiz kalarak bu vahşete sessiz kalmayın   هناك اضطهاد في فلسطين ، فلا تنضم إلى الوحشية بالتزام الصمت  #IsraeliAttackonAlAqsa #SavePalestine  #PrayForPalestine\",und,[],[],[],0,0,1,\"['israeliattackonalaqsa', 'savepalestine', 'prayforpalestine']\",[],https://twitter.com/_Karmerester_/status/1391905886986252288,False,,0,,,,,,,,\"[{'screen_name': '_pitis16_', 'name': 'b⁷ | butter \\U0001f9c8', 'id': '1042444938368167938'}, {'screen_name': 'houseofmarla', 'name': 'Marla⁷ | HOT100 #1', 'id': '1018827169894666240'}, {'screen_name': 'BTS_twt', 'name': '방탄소년단', 'id': '335141638'}]\",,,,\r\n",
            "1391905885727961090,1391870625833181185,2021-05-10 23:59:58 UTC,2021-05-10,23:59:58,+0000,1340253501247635456,nisaarenis,nisa🧈,,\"@bangtanysa There is cruelty in Palestine do not share in the savagery by staying silent Filistin'de zulüm var, sessiz kalarak bu vahşete sessiz kalmayın   هناك اضطهاد في فلسطين ، فلا تنضم إلى الوحشية بالتزام الصمت  #IsraeliAttackonAlAqsa #SavePalestine  #PrayForPalestine\",und,[],[],[],0,0,0,\"['israeliattackonalaqsa', 'savepalestine', 'prayforpalestine']\",[],https://twitter.com/nisaarenis/status/1391905885727961090,False,,0,,,,,,,,\"[{'screen_name': 'bangtanysa', 'name': 'sentinus⁷ |nisa⁷', 'id': '1343802551167295488'}]\",,,,\r\n",
            "1391905885673377797,1391876306216886277,2021-05-10 23:59:58 UTC,2021-05-10,23:59:58,+0000,946140326867202048,fondresilax,❀ éowyn,,\"@milkndvkookies @nawithjk There is cruelty in Palestine do not share in the savagery by staying silent Filistin'de zulüm var, sessiz kalarak bu vahşete sessiz kalmayın   هناك اضطهاد في فلسطين ، فلا تنضم إلى الوحشية بالتزام الصمت  #IsraeliAttackonAlAqsa #SavePalestine  #PrayForPalestine\",und,[],[],[],0,0,1,\"['israeliattackonalaqsa', 'savepalestine', 'prayforpalestine']\",[],https://twitter.com/fondresilax/status/1391905885673377797,False,,0,,,,,,,,\"[{'screen_name': 'milkndvkookies', 'name': 'pea,⁷', 'id': '1167010866375606274'}, {'screen_name': 'nawithjk', 'name': 'owa', 'id': '1221528886036529155'}]\",,,,\r\n",
            "1391905884612202497,1391905884612202497,2021-05-10 23:59:57 UTC,2021-05-10,23:59:57,+0000,1365311876054327299,yoonglessoftie,🧈Nourᴮᴱ⁷ PRO-JÄGER,,\"What our brothers and sisters are going through rn is what gives me the strength to keep on practicing my beautiful religion in the best way i could, it gives me the motivation i need to go and pray, so that i could pray and make duaas for them #SaveSheikhJarrah #SavePalestine\",en,[],[],[],0,8,13,\"['savesheikhjarrah', 'savepalestine']\",[],https://twitter.com/yoonglessoftie/status/1391905884612202497,False,,0,,,,,,,,[],,,,\r\n",
            "1391905883051986944,1391905883051986944,2021-05-10 23:59:57 UTC,2021-05-10,23:59:57,+0000,630868691,adv_302,Malik🇵🇰,,مسجد اقصی کے احاطے میں لگی آگ پر اسرائیلی شہری خوشی منا رہے ہیں اسرائیلی فورسز کے حملے سے مسجد کی مغربی دیوار کی جانب احاطے میں آگ بھڑک اٹھی ہے. #GazaUnderAttack #SaveSheikhJarrah #savePalestine #AlQuds #IsraeliCrimes #SaveGaza  https://t.co/jPjlhRMCtX,ur,[],[],[],0,0,1,\"['gazaunderattack', 'savesheikhjarrah', 'savepalestine', 'alquds', 'israelicrimes', 'savegaza']\",[],https://twitter.com/Adv_302/status/1391905883051986944,False,,1,https://pbs.twimg.com/ext_tw_video_thumb/1391905810519838720/pu/img/p0Dwzn8Rg-0FgR59.jpg,,,,,,,[],,,,\r\n",
            "1391905882502533124,1391905882502533124,2021-05-10 23:59:57 UTC,2021-05-10,23:59:57,+0000,1342525639266619393,joonlover123,yali⁷,,Dua for Palestine #Palestine #SaveSheikhJarrah #AlAqsaMosque #SavePalestine #FreePalestine @/s.vbr on insta (a thread)  https://t.co/FhNFU2kNbK,en,[],[],['https://pbs.twimg.com/media/E1ELBbnXMAIbV-M.jpg'],1,0,0,\"['palestine', 'savesheikhjarrah', 'alaqsamosque', 'savepalestine', 'freepalestine']\",[],https://twitter.com/joonlover123/status/1391905882502533124,False,,1,https://pbs.twimg.com/media/E1ELBbnXMAIbV-M.jpg,,,,,,,[],,,,\r\n",
            "1391905882175311874,1391905882175311874,2021-05-10 23:59:57 UTC,2021-05-10,23:59:57,+0000,1057687705,omarabualhijaa,𓂆 عمر أبو الهيجاء,,#انقذوا_حي_الشيخ_جراح #أنقذو_حي_الشيخ_جراح #انقذوا_حي_الشيخ_الجراح #حي_الشيخ_جراح #حي_الشيخ_الجراح #القدس_تنتفض #القدس_اقرب #المسجد_الأقصى #أنا_عقبة #فلسطين #غزة_تقصف   #SheikJarrah #SaveSheikhJarrah #SavePalestine #PalestineWillBeFree #AlAqsaMosque #GazaUnderAttack  #Palestine,und,[],[],[],0,0,0,\"['انقذوا_حي_الشيخ_جراح', 'أنقذو_حي_الشيخ_جراح', 'انقذوا_حي_الشيخ_الجراح', 'حي_الشيخ_جراح', 'حي_الشيخ_الجراح', 'القدس_تنتفض', 'القدس_اقرب', 'المسجد_الأقصى', 'أنا_عقبة', 'فلسطين', 'غزة_تقصف', 'sheikjarrah', 'savesheikhjarrah', 'savepalestine', 'palestinewillbefree', 'alaqsamosque', 'gazaunderattack', 'palestine']\",[],https://twitter.com/omarabualhijaa/status/1391905882175311874,False,https://twitter.com/simonerzim/status/1391869749303316483,0,,,,,,,,[],,,,\r\n",
            "1391905881999036416,1391905881999036416,2021-05-10 23:59:57 UTC,2021-05-10,23:59:57,+0000,1278960439322271745,baekwinwin_,ᴸ𝗮𝘆 (kinda ia),,\"Temen-temen, ayo luangin waktu sebentar untuk mendoakan semua sodara kita di sana. Ya Allah lindungilah semua muslim di sana, Aamiin🤲🏻  #SavePalestine  #SaveSheikhJarrah  #AlAqsaUnderAttack  https://t.co/TpUewiTfXA\",in,[],[],\"['https://pbs.twimg.com/media/E1EK_RVVIAEg__w.jpg', 'https://pbs.twimg.com/media/E1EK_6cVEAAZwEz.jpg']\",3,286,691,\"['savepalestine', 'savesheikhjarrah', 'alaqsaunderattack']\",[],https://twitter.com/baekwinwin_/status/1391905881999036416,False,,1,https://pbs.twimg.com/media/E1EK_RVVIAEg__w.jpg,,,,,,,[],,,,\r\n",
            "1391905881898500097,1391885635246493700,2021-05-10 23:59:57 UTC,2021-05-10,23:59:57,+0000,1295837346764673024,jimin_s_hair,melekamajiminkadardeğil👽,,\"@fairychimtr There is cruelty in Palestine do not share in the savagery by staying silent Filistin'de zulüm var, sessiz kalarak bu vahşete sessiz kalmayın   هناك اضطهاد في فلسطين ، فلا تنضم إلى الوحشية بالتزام الصمت  #IsraeliAttackonAlAqsa #SavePalestine  #PrayForPalestine\",und,[],[],[],0,0,0,\"['israeliattackonalaqsa', 'savepalestine', 'prayforpalestine']\",[],https://twitter.com/jimin_s_hair/status/1391905881898500097,False,,0,,,,,,,,\"[{'screen_name': 'fairychimtr', 'name': 'FAIRY CHIM TR₁₃', 'id': '1196072317299953665'}]\",,,,\r\n",
            "1391905881797836804,1391905881797836804,2021-05-10 23:59:57 UTC,2021-05-10,23:59:57,+0000,1272312821095809026,jichasy,shado,,#SavePalestine,und,[],[],[],0,0,0,['savepalestine'],[],https://twitter.com/jichasy/status/1391905881797836804,False,,0,,,,,,,,[],,,,\r\n",
            "1391905880791126021,1391905880791126021,2021-05-10 23:59:56 UTC,2021-05-10,23:59:56,+0000,1354412348535140352,jinnienthusiast,JinRara⁷ 🐹,,My timeline is full of my moots sharing about Palestine issue. Im so proud of Armys who are concern about this matter. 🥺💜 #SavePalestine #PalestinianLivesMatter,en,[],[],[],0,0,0,\"['savepalestine', 'palestinianlivesmatter']\",[],https://twitter.com/jinnienthusiast/status/1391905880791126021,False,,0,,,,,,,,[],,,,\r\n",
            "1391905880703000576,1391905880703000576,2021-05-10 23:59:56 UTC,2021-05-10,23:59:56,+0000,1138827982041112578,mintesuga,minqila⁷ -ㅅ-,,Please spend a few seconds to read qunut nazilah. Harini kaum yg dilaknat Allah telah play victim. Semoga kita dan saudara2 kita di Palestine dirahmati Allah 💜  #SavePalestine #SaveSheikhJarrah  https://t.co/xBXHLG7Vef,in,[],[],['https://pbs.twimg.com/media/E1ELBBuUUAAuYGP.jpg'],0,99,174,\"['savepalestine', 'savesheikhjarrah']\",[],https://twitter.com/mintesuga/status/1391905880703000576,False,,1,https://pbs.twimg.com/media/E1ELBBuUUAAuYGP.jpg,,,,,,,[],,,,\r\n",
            "1391905878949957634,1391905878949957634,2021-05-10 23:59:56 UTC,2021-05-10,23:59:56,+0000,1303051988058476553,mekkyneamat,Ne'mat Mekky🧕🕋🤲🏻💜,,#غزه_تحت_القصف #القدس_ينتفض #فلسطين_تنتفض #حي_الشيخ_الجراح #الأقصى_ينتفض #SavePalestine #AlAqsaUnderAttack #Palestine #Gaza #AlQuds  https://t.co/eQL1BFRjwh,und,[],[],['https://pbs.twimg.com/media/E1ELBL2XIAQxi7e.jpg'],0,0,1,\"['غزه_تحت_القصف', 'القدس_ينتفض', 'فلسطين_تنتفض', 'حي_الشيخ_الجراح', 'الأقصى_ينتفض', 'savepalestine', 'alaqsaunderattack', 'palestine', 'gaza', 'alquds']\",[],https://twitter.com/MekkyNeamat/status/1391905878949957634,False,,1,https://pbs.twimg.com/media/E1ELBL2XIAQxi7e.jpg,,,,,,,[],,,,\r\n",
            "1391905877448269824,1391905877448269824,2021-05-10 23:59:56 UTC,2021-05-10,23:59:56,+0000,905640675424616453,sposamaansari50,Sp Osama Ansari 🇮🇳 اسامہ انصاری,,\"#palestine  \"\"What is my relationship with you?\"\"  لآ اِلَهَ اِلّا اللّهُ مُحَمَّدٌ رَسُوُل اللّه To Israel from India!   #IndiaStandsWithPalestine  #SavePalestine #FreePalestine #GazaUnderAttack  https://t.co/CE0kJa7aZP\",und,[],[],['https://pbs.twimg.com/media/E1ELBMUUYAMZbs_.jpg'],0,0,1,\"['palestine', 'indiastandswithpalestine', 'savepalestine', 'freepalestine', 'gazaunderattack']\",[],https://twitter.com/SpOsamaAnsari50/status/1391905877448269824,False,,1,https://pbs.twimg.com/media/E1ELBMUUYAMZbs_.jpg,,,,,,,[],,,,\r\n",
            "1391905877184061442,1391905877184061442,2021-05-10 23:59:56 UTC,2021-05-10,23:59:56,+0000,1388983256108859392,enha_tdog,Daphne,,I'm sobbing 😭😭😭 #SavePalestine,en,[],[],[],0,0,0,['savepalestine'],[],https://twitter.com/enha_tdog/status/1391905877184061442,False,https://twitter.com/asxndio/status/1391903661870047236,0,,,,,,,,[],,,,\r\n",
            "1391905876869591040,1391899730553327619,2021-05-10 23:59:56 UTC,2021-05-10,23:59:56,+0000,1365949500712488963,nehirmisim,Nehir,,\"@HOP3ILOVE There is cruelty in Palestine do not share in the savagery by staying silent Filistin'de zulüm var, sessiz kalarak bu vahşete sessiz kalmayın   هناك اضطهاد في فلسطين ، فلا تنضم إلى الوحشية بالتزام الصمت  #IsraeliAttackonAlAqsa #SavePalestine  #PrayForPalestine\",und,[],[],[],0,1,1,\"['israeliattackonalaqsa', 'savepalestine', 'prayforpalestine']\",[],https://twitter.com/Nehirmisim/status/1391905876869591040,False,,0,,,,,,,,\"[{'screen_name': 'HOP3ILOVE', 'name': \"\"vante'☔\"\", 'id': '1060123306316218368'}]\",,,,\r\n",
            "1391905876081102854,1391905876081102854,2021-05-10 23:59:55 UTC,2021-05-10,23:59:55,+0000,1391171164668579841,velhosoek_,✯🇰🇼,,#savesheikhjarrah #الاقصي  #انقذوا_حي_الشيخ_جراح  #القدس_تنتفض  #savesheikhjarrah #savepalestine #prayforpalestina #savegaza #savealaqsa #prayforpalestine #prayforgaza🇰🇼,und,[],[],[],0,0,0,\"['savesheikhjarrah', 'الاقصي', 'انقذوا_حي_الشيخ_جراح', 'القدس_تنتفض', 'savesheikhjarrah', 'savepalestine', 'prayforpalestina', 'savegaza', 'savealaqsa', 'prayforpalestine', 'prayforgaza']\",[],https://twitter.com/velhosoek_/status/1391905876081102854,False,,0,,,,,,,,[],,,,\r\n",
            "1391905875737026563,1391905875737026563,2021-05-10 23:59:55 UTC,2021-05-10,23:59:55,+0000,1147794943060172801,dust_intheair,P-Bubs,,\"If I see the word \"\"clash\"\" one more time I'm going to lose it. Israeli forces are attacking Palestinians with such brute force. Its shown in the videos clear as day that have been circulating online. How could you call this a clash? #SavePalestine #FreePalestine #SheikhJarah\",en,[],[],[],1,0,7,\"['savepalestine', 'freepalestine', 'sheikhjarah']\",[],https://twitter.com/Dust_InTheAir/status/1391905875737026563,False,,0,,,,,,,,[],,,,\r\n",
            "1391905875242201088,1391905009219031043,2021-05-10 23:59:55 UTC,2021-05-10,23:59:55,+0000,1295484072630857735,nihizm,palavracı Ni,,\"@baelistj There is cruelty in Palestine do not share in the savagery by staying silent Filistin'de zulüm var, sessiz kalarak bu vahşete sessiz kalmayın   هناك اضطهاد في فلسطين ، فلا تنضم إلى الوحشية بالتزام الصمت  #IsraeliAttackonAlAqsa #SavePalestine  #PrayForPalestine\",und,[],[],[],0,0,0,\"['israeliattackonalaqsa', 'savepalestine', 'prayforpalestine']\",[],https://twitter.com/nihizm/status/1391905875242201088,False,,0,,,,,,,,\"[{'screen_name': 'baelistj', 'name': \"\"Lili'Meri\"\", 'id': '1278255199778492416'}]\",,,,\r\n",
            "1391905874034139136,1391905874034139136,2021-05-10 23:59:55 UTC,2021-05-10,23:59:55,+0000,992846014964027392,nazimahmed65,Ahmed Ismail,,Why muslim nation is silent 😶? Why world Un is silent  #SavePalestine,en,[],[],[],0,2,2,['savepalestine'],[],https://twitter.com/Nazimahmed65/status/1391905874034139136,False,,0,,,,,,,,[],,,,\r\n",
            "1391905873862275080,1391905873862275080,2021-05-10 23:59:55 UTC,2021-05-10,23:59:55,+0000,1362438830113099778,hoseooko,DOPI ʰʷ²,,#SavePalestine,und,[],[],[],0,0,0,['savepalestine'],[],https://twitter.com/hoseooko/status/1391905873862275080,False,,0,,,,,,,,[],,,,\r\n",
            "1391905873535066116,1391905873535066116,2021-05-10 23:59:55 UTC,2021-05-10,23:59:55,+0000,882706144703037440,asadshakoor_,Asad Shakoor,,\"The world has gone blind but The Almighty is watching. Each and everyone of you cowards (Blind international Organisations, Super powers and Media) will rot in hell In sha Allah.  #GazaUnderAttack #SavePalestine  #AlAqsaUnderAttack #Jerusalem #MasjidAlAqsa  https://t.co/qPGdyGEGRk\",en,[],[],['https://pbs.twimg.com/media/E1ELAozWEAIfyTl.jpg'],0,0,1,\"['gazaunderattack', 'savepalestine', 'alaqsaunderattack', 'jerusalem', 'masjidalaqsa']\",[],https://twitter.com/AsadShakoor_/status/1391905873535066116,False,,1,https://pbs.twimg.com/media/E1ELAozWEAIfyTl.jpg,,,,,,,[],,,,\r\n",
            "1391905872918503429,1391905872918503429,2021-05-10 23:59:55 UTC,2021-05-10,23:59:55,+0000,1292244904748384260,atiny11_g,우영 ᴅᴏᴅʏ ‏♡︎ ៸៸,,لا سَلام مع الكيان الصهيوني #SaveSheikhJarraj   #SavePalestine #القدس_ينتفض,ar,[],[],[],0,1,1,\"['savesheikhjarraj', 'savepalestine', 'القدس_ينتفض']\",[],https://twitter.com/atiny11_g/status/1391905872918503429,False,https://twitter.com/hongisumi/status/1391884988434497536,0,,,,,,,,[],,,,\r\n",
            "1391905872817836035,1391905872817836035,2021-05-10 23:59:55 UTC,2021-05-10,23:59:55,+0000,8805922,talishapiro,Tali,,#PHOTO || Occupation forces are trucking tanks into occupied #Lydd.  #GazaUnderAttack #AlAqsaMosque #SaveSheikhJarrah #SavePalestine,en,[],[],[],0,2,2,\"['photo', 'lydd', 'gazaunderattack', 'alaqsamosque', 'savesheikhjarrah', 'savepalestine']\",[],https://twitter.com/TaliShapiro/status/1391905872817836035,False,https://twitter.com/48nnews/status/1391904879388528640,0,,,,,,,,[],,,,\r\n",
            "1391905872582873089,1391905872582873089,2021-05-10 23:59:55 UTC,2021-05-10,23:59:55,+0000,1274855812872065025,downthestreets,la la land☁️☀️,,#AlAqsaUnderAttack  #SavePalestine #SaveSheikhJarrah   zionists are suck,en,[],[],[],0,0,0,\"['alaqsaunderattack', 'savepalestine', 'savesheikhjarrah']\",[],https://twitter.com/downthestreets/status/1391905872582873089,False,,0,,,,,,,,[],,,,\r\n",
            "1391905871823769601,1391900022896308227,2021-05-10 23:59:54 UTC,2021-05-10,23:59:54,+0000,1314822279256248321,flowerandnini,flower | |🌿,,\"@waitngltblive @starlessmimi There is cruelty in Palestine do not share in the savagery by staying silent Filistin'de zulüm var, sessiz kalarak bu vahşete sessiz kalmayın   هناك اضطهاد في فلسطين ، فلا تنضم إلى الوحشية بالتزام الصمت  #IsraeliAttackonAlAqsa #SavePalestine  #PrayForPalestine\",und,[],[],[],0,0,0,\"['israeliattackonalaqsa', 'savepalestine', 'prayforpalestine']\",[],https://twitter.com/flowerandnini/status/1391905871823769601,False,,0,,,,,,,,\"[{'screen_name': 'waitngltblive', 'name': 'Anaran but tired', 'id': '846759836880658433'}, {'screen_name': 'starlessmimi', 'name': 'öz nur°^°⁷⟭⟬➐⟬⟭✿but çürük yumurta sarısı🌈', 'id': '1251223503136862208'}]\",,,,\r\n",
            "1391905871718883328,1391905116379246593,2021-05-10 23:59:54 UTC,2021-05-10,23:59:54,+0000,1344142213505150978,osakawonki,ً,,@hoonselca Save Humanity.  #SavePalestine #SaveSheikhJarrah #SheikhJarrah,en,[],[],[],0,1,1,\"['savepalestine', 'savesheikhjarrah', 'sheikhjarrah']\",[],https://twitter.com/osakawonki/status/1391905871718883328,False,,0,,,,,,,,\"[{'screen_name': 'hoonselca', 'name': 'ًsya', 'id': '1292426256529543170'}]\",,,,\r\n",
            "1391905870955655169,1391904306085908480,2021-05-10 23:59:54 UTC,2021-05-10,23:59:54,+0000,1255216958519328769,jinask9,𝗝𝗮𝘀🇵🇸,,@jieunsource FREE PALESTINE  #SaveSheikhJarraj   #SavePalestine #القدس_ينتفض,et,[],[],[],0,0,0,\"['savesheikhjarraj', 'savepalestine', 'القدس_ينتفض']\",[],https://twitter.com/jinask9/status/1391905870955655169,False,,0,,,,,,,,\"[{'screen_name': 'jieunsource', 'name': 'ِ', 'id': '1256052411438895106'}]\",,,,\r\n",
            "1391905870578167808,1391873796693532678,2021-05-10 23:59:54 UTC,2021-05-10,23:59:54,+0000,1312165784312045574,mss_aysu,I'm Aysu♡ 🧈,,\"@staydegilkalmak @Busbus_sa There is cruelty in Palestine do not share in the savagery by staying silent Filistin'de zulüm var, sessiz kalarak bu vahşete sessiz kalmayın   هناك اضطهاد في فلسطين ، فلا تنضم إلى الوحشية بالتزام الصمت  #IsraeliAttackonAlAqsa #SavePalestine  #PrayForPalestine\",und,[],[],[],0,0,2,\"['israeliattackonalaqsa', 'savepalestine', 'prayforpalestine']\",[],https://twitter.com/Mss_Aysu/status/1391905870578167808,False,,0,,,,,,,,\"[{'screen_name': 'staydegilkalmak', 'name': 'Cassi✨ 8', 'id': '1303333892771000320'}, {'screen_name': 'Busbus_sa', 'name': '°Büşbüş', 'id': '1320673380614475781'}]\",,,,\r\n",
            "1391905870171328514,1391904398398341122,2021-05-10 23:59:54 UTC,2021-05-10,23:59:54,+0000,1373960560849657857,sehernaz_b,seher naz🌈,,\"@sonbaaharn There is cruelty in Palestine do not share in the savagery by staying silent Filistin'de zulüm var, sessiz kalarak bu vahşete sessiz kalmayın   هناك اضطهاد في فلسطين ، فلا تنضم إلى الوحشية بالتزام الصمت  #IsraeliAttackonAlAqsa #SavePalestine  #PrayForPalestine\",und,[],[],[],1,1,0,\"['israeliattackonalaqsa', 'savepalestine', 'prayforpalestine']\",[],https://twitter.com/SeherNaz_b/status/1391905870171328514,False,,0,,,,,,,,\"[{'screen_name': 'sonbaaharn', 'name': 'güz⁷ 🎸', 'id': '1159837991449186305'}]\",,,,\r\n",
            "1391905868606627842,1391905868606627842,2021-05-10 23:59:54 UTC,2021-05-10,23:59:54,+0000,1307551656784007168,tomhen2,Tomhen,,#AlAqsaUnderAttack  #SavePalestine,und,[],[],[],0,0,0,\"['alaqsaunderattack', 'savepalestine']\",[],https://twitter.com/Tomhen2/status/1391905868606627842,False,https://twitter.com/Babygyu_u/status/1391898198675922947,0,,,,,,,,[],,,,\r\n",
            "1391905865939173378,1391905865939173378,2021-05-10 23:59:53 UTC,2021-05-10,23:59:53,+0000,757375713959895040,areegesawy2000,areeg esawy,,#SavePalestine  #GazaUnderAttack  #Gaza  #AlAqsaUnderAttack  #AlAqsaMosque  #AqsaUnderAttack,und,[],[],[],0,0,1,\"['savepalestine', 'gazaunderattack', 'gaza', 'alaqsaunderattack', 'alaqsamosque', 'aqsaunderattack']\",[],https://twitter.com/areegesawy2000/status/1391905865939173378,False,,0,,,,,,,,[],,,,\r\n",
            "1391905865209458690,1391905695797235714,2021-05-10 23:59:53 UTC,2021-05-10,23:59:53,+0000,980578174554779648,shitbi131,💌,,\"@KJWN95 There is cruelty in Palestine do not share in the savagery by staying silent Filistin'de zulüm var, sessiz kalarak bu vahşete sessiz kalmayın   هناك اضطهاد في فلسطين ، فلا تنضم إلى الوحشية بالتزام الصمت  #IsraeliAttackonAlAqsa #SavePalestine  #PrayForPalestine\",und,[],[],[],1,0,0,\"['israeliattackonalaqsa', 'savepalestine', 'prayforpalestine']\",[],https://twitter.com/shitbi131/status/1391905865209458690,False,,0,,,,,,,,\"[{'screen_name': 'KJWN95', 'name': 'selva', 'id': '1388182337150664706'}]\",,,,\r\n",
            "1391905863703699458,1391905618072641537,2021-05-10 23:59:52 UTC,2021-05-10,23:59:52,+0000,1977342528,gulfe22,🌟🌟,,#SavePalestine,und,[],[],[],0,0,0,['savepalestine'],[],https://twitter.com/gulfe22/status/1391905863703699458,False,,0,,,,,,,,[],,,,\r\n",
            "1391905863477104643,1391905060200796161,2021-05-10 23:59:52 UTC,2021-05-10,23:59:52,+0000,1300143193678381056,ekmekhaeri,🌌 Haeri ama ekmek 🌌,,\"@blairazel There is cruelty in Palestine do not share in the savagery by staying silent Filistin'de zulüm var, sessiz kalarak bu vahşete sessiz kalmayın   هناك اضطهاد في فلسطين ، فلا تنضم إلى الوحشية بالتزام الصمت  #IsraeliAttackonAlAqsa #SavePalestine  #PrayForPalestine\",und,[],[],[],1,1,0,\"['israeliattackonalaqsa', 'savepalestine', 'prayforpalestine']\",[],https://twitter.com/EkmekHaeri/status/1391905863477104643,False,,0,,,,,,,,\"[{'screen_name': 'blairazel', 'name': 'mauve 🧷', 'id': '1215727373280333824'}]\",,,,\r\n",
            "1391905862290190338,1391899083741224967,2021-05-10 23:59:52 UTC,2021-05-10,23:59:52,+0000,1240943431750475778,marsdabirdeli,A⁷,,\"@nida_samsa There is cruelty in Palestine do not share in the savagery by staying silent Filistin'de zulüm var, sessiz kalarak bu vahşete sessiz kalmayın   هناك اضطهاد في فلسطين ، فلا تنضم إلى الوحشية بالتزام الصمت  #IsraeliAttackonAlAqsa #SavePalestine  #PrayForPalestine\",und,[],[],[],0,0,0,\"['israeliattackonalaqsa', 'savepalestine', 'prayforpalestine']\",[],https://twitter.com/marsdabirdeli/status/1391905862290190338,False,,0,,,,,,,,\"[{'screen_name': 'nida_samsa', 'name': 'Nîda⁷', 'id': '1190686368579633152'}]\",,,,\r\n",
            "1391905861505855488,1391894994210930690,2021-05-10 23:59:52 UTC,2021-05-10,23:59:52,+0000,345929259,7whysoserious,bhr♡༄ 🎀💐,,@got7turkey #IsraeliAttackonAlAqsa #SavePalestine  #PrayForPalestine,und,[],[],[],0,0,1,\"['israeliattackonalaqsa', 'savepalestine', 'prayforpalestine']\",[],https://twitter.com/7whysoserious/status/1391905861505855488,False,,0,,,,,,,,\"[{'screen_name': 'got7turkey', 'name': 'POV: GOT7 TURKËY 🔗 #riBBon 🎀', 'id': '2255587575'}]\",,,,\r\n",
            "1391905860528623616,1391905860528623616,2021-05-10 23:59:52 UTC,2021-05-10,23:59:52,+0000,1078375929901182976,monabasal1,Mona Basal,,#SavePalestine  https://t.co/ufHRPT913S,und,[],[],['https://pbs.twimg.com/media/E1ELAPQXsAENYp5.jpg'],0,0,1,['savepalestine'],[],https://twitter.com/MonaBasal1/status/1391905860528623616,False,,1,https://pbs.twimg.com/media/E1ELAPQXsAENYp5.jpg,,,,,,,[],,,,\r\n",
            "1391905857248665600,1391863878569631752,2021-05-10 23:59:51 UTC,2021-05-10,23:59:51,+0000,1377255462337445888,bangtanindelisi,🥞aVeyna🥞HOT100 #1,,\"@uniytae There is cruelty in Palestine do not share in the savagery by staying silent Filistin'de zulüm var, sessiz kalarak bu vahşete sessiz kalmayın   هناك اضطهاد في فلسطين ، فلا تنضم إلى الوحشية بالتزام الصمت  #IsraeliAttackonAlAqsa #SavePalestine  #PrayForPalestine\",und,[],[],[],0,0,0,\"['israeliattackonalaqsa', 'savepalestine', 'prayforpalestine']\",[],https://twitter.com/BANGTANINDELISI/status/1391905857248665600,False,,0,,,,,,,,\"[{'screen_name': 'uniytae', 'name': 'yiğitysus☁️çekiliş sabitte📌', 'id': '1044243752389357569'}]\",,,,\r\n",
            "1391905857072414722,1391905857072414722,2021-05-10 23:59:51 UTC,2021-05-10,23:59:51,+0000,1334489481903108098,babsswiftie,Babs⁷ ♡ ∞,,LETS USE OUR VOICES! DONT IGNORE!! PPL ARE GETTING KILLED IN PALESTINE! HELP THEM!  #FreePalestine #SavePalestine #SaveSheikhJarrah,en,[],[],[],0,0,1,\"['freepalestine', 'savepalestine', 'savesheikhjarrah']\",[],https://twitter.com/Babsswiftie/status/1391905857072414722,False,https://twitter.com/ftwsope/status/1391873730587107338,0,,,,,,,,[],,,,\r\n",
            "1391905856820809731,1391905683906473986,2021-05-10 23:59:51 UTC,2021-05-10,23:59:51,+0000,1073674921715339266,seldemseverr,💔 Im jisoo Im ok,,\"@buterflys_ There is cruelty in Palestine do not share in the savagery by staying silent Filistin'de zulüm var, sessiz kalarak bu vahşete sessiz kalmayın   هناك اضطهاد في فلسطين ، فلا تنضم إلى الوحشية بالتزام الصمت  #IsraeliAttackonAlAqsa #SavePalestine  #PrayForPalestine\",und,[],[],[],0,0,0,\"['israeliattackonalaqsa', 'savepalestine', 'prayforpalestine']\",[],https://twitter.com/seldemseverr/status/1391905856820809731,False,,0,,,,,,,,\"[{'screen_name': 'buterflys_', 'name': 'B#tterfly \\U0001f9c8', 'id': '1226539858409201664'}]\",,,,\r\n",
            "1391905854937518081,1391870030799904775,2021-05-10 23:59:50 UTC,2021-05-10,23:59:50,+0000,973809762977681413,11opia,Bvb 开 🦋,,@Exofanbase FREE PALESTINE  #SavePalestine #SaveSheikhJarrah  #AlAqsaUnderAttack,et,[],[],[],0,0,0,\"['savepalestine', 'savesheikhjarrah', 'alaqsaunderattack']\",[],https://twitter.com/11opia/status/1391905854937518081,False,,0,,,,,,,,\"[{'screen_name': 'Exofanbase', 'name': 'EXOFANBASE', 'id': '448618990'}]\",,,,\r\n",
            "1391905854010576899,1391905854010576899,2021-05-10 23:59:50 UTC,2021-05-10,23:59:50,+0000,606514182,abeautifultaqwa,حسناء,,\"We may cry now in this life for our oppressed brothers, but enemies of Islam will cry infinitely in Jahannam. Wait for your turn. Be Patient, O Palestinians.   May Allaah comfort their soul, as Allaah is with the patients.  #SavePalestine #SaveSheikhJarrah 🤲  https://t.co/SMyEt27DHg\",en,[],[],['https://pbs.twimg.com/media/E1EK_q5XMAEppEH.jpg'],0,7,9,\"['savepalestine', 'savesheikhjarrah']\",[],https://twitter.com/abeautifultaqwa/status/1391905854010576899,False,,1,https://pbs.twimg.com/media/E1EK_q5XMAEppEH.jpg,,,,,,,[],,,,\r\n",
            "1391905853511450626,1391905695797235714,2021-05-10 23:59:50 UTC,2021-05-10,23:59:50,+0000,1364139709828579328,asahismeow,valeria,,\"@shitbi131 There is cruelty in Palestine do not share in the savagery by staying silent Filistin'de zulüm var, sessiz kalarak bu vahşete sessiz kalmayın   هناك اضطهاد في فلسطين ، فلا تنضم إلى الوحشية بالتزام الصمت  #IsraeliAttackonAlAqsa #SavePalestine  #PrayForPalestine\",und,[],[],[],1,0,0,\"['israeliattackonalaqsa', 'savepalestine', 'prayforpalestine']\",[],https://twitter.com/asahismeow/status/1391905853511450626,False,,0,,,,,,,,\"[{'screen_name': 'shitbi131', 'name': '💌', 'id': '980578174554779648'}]\",,,,\r\n",
            "1391905852127330306,1391849985080233990,2021-05-10 23:59:50 UTC,2021-05-10,23:59:50,+0000,3322991667,yagmurkiraz2_,stillROSE🥀,,@defnecaglaltd #SaveSheikhJarrah #SavePalestine,und,[],[],[],0,0,0,\"['savesheikhjarrah', 'savepalestine']\",[],https://twitter.com/yagmurkiraz2_/status/1391905852127330306,False,,0,,,,,,,,\"[{'screen_name': 'defnecaglaltd', 'name': \"\"⟭⟬ ᴮᴱMother Army's ⟬⟭⁷ \\U0001f9c8Get it,let it roll 🔥\"\", 'id': '880513496894537728'}]\",,,,\r\n",
            "1391905850827034627,1391905116379246593,2021-05-10 23:59:49 UTC,2021-05-10,23:59:49,+0000,1344142213505150978,osakawonki,ً,,@jaywonsbby Save Humanity.  #SavePalestine #SaveSheikhJarrah #SheikhJarrah,en,[],[],[],0,1,0,\"['savepalestine', 'savesheikhjarrah', 'sheikhjarrah']\",[],https://twitter.com/osakawonki/status/1391905850827034627,False,,0,,,,,,,,[],,,,\r\n",
            "1391905850537611264,1391905850537611264,2021-05-10 23:59:49 UTC,2021-05-10,23:59:49,+0000,352460843,sugassight7,ryn 🐱,,\"My heart is truly breaking seeing what's happening in palestine right now. Ya  Allah, protect them the Palestine fighters, the defenders of al Aqsa 🤲🏻  #SavePalestine #SaveSheikhJarrah #AlAqsaMosque\",en,[],[],[],0,1,0,\"['savepalestine', 'savesheikhjarrah', 'alaqsamosque']\",[],https://twitter.com/sugassight7/status/1391905850537611264,False,,0,,,,,,,,[],,,,\r\n",
            "1391905850516770818,1391873189907677194,2021-05-10 23:59:49 UTC,2021-05-10,23:59:49,+0000,1237617501422391301,catlinovv,cat linov | Wolfgang 🐺,,\"@SE0CHANGB1N_ K There is cruelty in Palestine do not share in the savagery by staying silent Filistin'de zulüm var, sessiz kalarak bu vahşete sessiz kalmayın   هناك اضطهاد في فلسطين ، فلا تنضم إلى الوحشية بالتزام الصمت  #IsraeliAttackonAlAqsa #SavePalestine  #PrayForPalestine\",und,[],[],[],0,0,0,\"['israeliattackonalaqsa', 'savepalestine', 'prayforpalestine']\",[],https://twitter.com/catlinovv/status/1391905850516770818,False,,0,,,,,,,,\"[{'screen_name': 'SE0CHANGB1N_', 'name': 'seolix⛓but yavşak 🧷', 'id': '1342015842335252481'}]\",,,,\r\n",
            "1391905850231562244,1391903791679684608,2021-05-10 23:59:49 UTC,2021-05-10,23:59:49,+0000,1192856565444947969,esdipity,esma⁷,,\"@bangtanis7_2 There is cruelty in Palestine do not share in the savagery by staying silent Filistin'de zulüm var, sessiz kalarak bu vahşete sessiz kalmayın   هناك اضطهاد في فلسطين ، فلا تنضم إلى الوحشية بالتزام الصمت  #IsraeliAttackonAlAqsa #SavePalestine  #PrayForPalestine\",und,[],[],[],0,0,0,\"['israeliattackonalaqsa', 'savepalestine', 'prayforpalestine']\",[],https://twitter.com/esdipity/status/1391905850231562244,False,,0,,,,,,,,\"[{'screen_name': 'bangtanis7_2', 'name': 'Nisnape⁷💥', 'id': '1328338127916834816'}]\",,,,\r\n",
            "1391905849979949056,1391905849979949056,2021-05-10 23:59:49 UTC,2021-05-10,23:59:49,+0000,1008291028242137088,beebjisoo,miss lama🦋/ريست لين النجاح في اختباراتي,,#انقذوا_حي_الشيخ_جراح #SavePalestine #SaveSheikhJarrah #FreePalestine #فلسطين_قضيتنا_الأولى #فلسطين_قضيتي  https://t.co/fZHsDjgtCg,und,[],[],['https://pbs.twimg.com/media/E1EK_k6XMAINmy5.jpg'],0,0,0,\"['انقذوا_حي_الشيخ_جراح', 'savepalestine', 'savesheikhjarrah', 'freepalestine', 'فلسطين_قضيتنا_الأولى', 'فلسطين_قضيتي']\",[],https://twitter.com/beebjisoo/status/1391905849979949056,False,,1,https://pbs.twimg.com/media/E1EK_k6XMAINmy5.jpg,,,,,,,[],,,,\r\n",
            "1391905848952299523,1391905848952299523,2021-05-10 23:59:49 UTC,2021-05-10,23:59:49,+0000,1360570473571094532,bibistormm,B ❇️,,#القدس_ينتفض #فلسطين_تنتفض #غزة_تحت_القصف #حي_الشيخ_الجراح #AlAqsaUnderAttack #SavePalestine #AlAqsaMosque #Gaza #Palestine,und,[],[],[],0,0,1,\"['القدس_ينتفض', 'فلسطين_تنتفض', 'غزة_تحت_القصف', 'حي_الشيخ_الجراح', 'alaqsaunderattack', 'savepalestine', 'alaqsamosque', 'gaza', 'palestine']\",[],https://twitter.com/bibistormm/status/1391905848952299523,False,,0,,,,,,,,[],,,,\r\n",
            "1391905848255991813,1391887067383222273,2021-05-10 23:59:49 UTC,2021-05-10,23:59:49,+0000,1310687083212746755,mkemmeliyeti3,r¡¡na⁷,,\"@yoongicik_16 There is cruelty in Palestine do not share in the savagery by staying silent Filistin'de zulüm var, sessiz kalarak bu vahşete sessiz kalmayın   هناك اضطهاد في فلسطين ، فلا تنضم إلى الوحشية بالتزام الصمت  #IsraeliAttackonAlAqsa #SavePalestine  #PrayForPalestine\",und,[],[],[],0,0,1,\"['israeliattackonalaqsa', 'savepalestine', 'prayforpalestine']\",[],https://twitter.com/mkemmeliyeti3/status/1391905848255991813,False,,0,,,,,,,,\"[{'screen_name': 'yoongicik_16', 'name': 'sema ⁷', 'id': '1352006697452265472'}]\",,,,\r\n",
            "1391905847920496640,1391875206210375696,2021-05-10 23:59:49 UTC,2021-05-10,23:59:49,+0000,1365322029201825794,8tillwithyou,mágoa🥀,,\"@Yeontans_Fan There is cruelty in Palestine do not share in the savagery by staying silent Filistin'de zulüm var, sessiz kalarak bu vahşete sessiz kalmayın   هناك اضطهاد في فلسطين ، فلا تنضم إلى الوحشية بالتزام الصمت  #IsraeliAttackonAlAqsa #SavePalestine  #PrayForPalestine #AlAqsaUnderAttack\",und,[],[],[],0,0,0,\"['israeliattackonalaqsa', 'savepalestine', 'prayforpalestine', 'alaqsaunderattack']\",[],https://twitter.com/8tillwithyou/status/1391905847920496640,False,,0,,,,,,,,[],,,,\r\n",
            "1391905847651995648,1391869832744906752,2021-05-10 23:59:49 UTC,2021-05-10,23:59:49,+0000,1365949500712488963,nehirmisim,Nehir,,\"@ZHJ1M1N There is cruelty in Palestine do not share in the savagery by staying silent Filistin'de zulüm var, sessiz kalarak bu vahşete sessiz kalmayın   هناك اضطهاد في فلسطين ، فلا تنضم إلى الوحشية بالتزام الصمت  #IsraeliAttackonAlAqsa #SavePalestine  #PrayForPalestine\",und,[],[],[],0,0,0,\"['israeliattackonalaqsa', 'savepalestine', 'prayforpalestine']\",[],https://twitter.com/Nehirmisim/status/1391905847651995648,False,,0,,,,,,,,\"[{'screen_name': 'ZHJ1M1N', 'name': \"\"Tae'nin süt kardeşi\"\", 'id': '1322187489063407619'}]\",,,,\r\n",
            "1391905846360121344,1391785106726170629,2021-05-10 23:59:48 UTC,2021-05-10,23:59:48,+0000,1361796534195548161,samiulk07685973,Samiul Kabir,,@ErlingHaaland #SavePalestine,und,[],[],[],0,0,0,['savepalestine'],[],https://twitter.com/SamiulK07685973/status/1391905846360121344,False,,0,,,,,,,,\"[{'screen_name': 'ErlingHaaland', 'name': 'Erling Haaland', 'id': '2157651508'}]\",,,,\r\n",
            "1391905845651324928,1391890626489237508,2021-05-10 23:59:48 UTC,2021-05-10,23:59:48,+0000,1341389509670387713,bwniesirena4,Siréna,,\"@ucansavher There is cruelty in Palestine do not share in the savagery by staying silent Filistin'de zulüm var, sessiz kalarak bu vahşete sessiz kalmayın   هناك اضطهاد في فلسطين ، فلا تنضم إلى الوحشية بالتزام الصمت #IsraeliAttackonAlAqsa #SavePalestine  #PrayForPalestine\",und,[],[],[],0,0,1,\"['israeliattackonalaqsa', 'savepalestine', 'prayforpalestine']\",[],https://twitter.com/bwniesirena4/status/1391905845651324928,False,,0,,,,,,,,\"[{'screen_name': 'ucansavher', 'name': 'ucansavher⁷\\U0001f9c8', 'id': '1260668249571840001'}]\",,,,\r\n",
            "1391905844036620293,1391905844036620293,2021-05-10 23:59:48 UTC,2021-05-10,23:59:48,+0000,1255969828873146370,vantekgook,≮ vantekgook,,Ne yazıcağımı bilmiyorum gördükçe kötü oluyorum bi şansım olsa bir dakika durmam şu dünaya da #IsraeliAttackonAlAqsa #SavePalestine  #PrayForPalestine,tr,[],[],[],1,0,0,\"['israeliattackonalaqsa', 'savepalestine', 'prayforpalestine']\",[],https://twitter.com/vantekgook/status/1391905844036620293,False,,0,,,,,,,,[],,,,\r\n",
            "1391905843021434882,1391900934171549699,2021-05-10 23:59:47 UTC,2021-05-10,23:59:47,+0000,1264397046917722112,nugrahma,Zurifika Dodzz,,@republikaonline #SavePalestine #SaveGaza #AlAqsaUnderAttack,und,[],[],[],0,0,0,\"['savepalestine', 'savegaza', 'alaqsaunderattack']\",[],https://twitter.com/nugrahma/status/1391905843021434882,False,,0,,,,,,,,\"[{'screen_name': 'republikaonline', 'name': 'Republika.co.id', 'id': '22126902'}]\",,,,\r\n",
            "1391905842493022211,1391746018153222146,2021-05-10 23:59:47 UTC,2021-05-10,23:59:47,+0000,1182170480490504192,_rahema_sidd,ᴮᴱ ℝ𝕒𝕙𝕖𝕞𝕒 ⁷⟭⟬ 🇵🇰,,@so_bnmghr @rmarchives @archivefortae #SavePalestine #Palestinian #WakeUpMuslimUmmah #SaveSheikhJarrah #SaveSheikhJarrahFreedom #AlAqsaUnderAttack #AlAqsaMosque #PalestineWillBeFree #PrayForPalestine #PalestiniansLivesMatter #FreePalestine #GazaUnderAttack #Gaza #Gazze #حي_الشيخ_الجراح #فلسطين_تنتفض #المسجد_الأقصى  https://t.co/rDaxcuEXKT,und,[],[],['https://pbs.twimg.com/media/E1EK_JcWUAUQMav.jpg'],0,0,2,\"['savepalestine', 'palestinian', 'wakeupmuslimummah', 'savesheikhjarrah', 'savesheikhjarrahfreedom', 'alaqsaunderattack', 'alaqsamosque', 'palestinewillbefree', 'prayforpalestine', 'palestinianslivesmatter', 'freepalestine', 'gazaunderattack', 'gaza', 'gazze', 'حي_الشيخ_الجراح', 'فلسطين_تنتفض', 'المسجد_الأقصى']\",[],https://twitter.com/_Rahema_Sidd/status/1391905842493022211,False,,1,https://pbs.twimg.com/media/E1EK_JcWUAUQMav.jpg,,,,,,,\"[{'screen_name': 'so_bnmghr', 'name': 'so_ben 💛', 'id': '1371551328326066184'}, {'screen_name': 'rmarchives', 'name': 'namjoon pics \\U0001f9c8', 'id': '749658195526815744'}, {'screen_name': 'archivefortae', 'name': 'ً', 'id': '1305171509317574657'}]\",,,,\r\n",
            "1391905841373196291,1391857797663428613,2021-05-10 23:59:47 UTC,2021-05-10,23:59:47,+0000,1374480070664851462,serah289,seraᵃᵉ🌙💙🌟🦋🖤,,@fatimazsaid @yxtaesuh #FreePalestine #SaveSheikhJarrah #SavePalestine,und,[],[],[],0,0,0,\"['freepalestine', 'savesheikhjarrah', 'savepalestine']\",[],https://twitter.com/serah289/status/1391905841373196291,False,,0,,,,,,,,\"[{'screen_name': 'fatimazsaid', 'name': 'Fatima Said', 'id': '1135975952507396096'}, {'screen_name': 'yxtaesuh', 'name': 'MASI 🍒', 'id': '1283606510346657792'}]\",,,,\r\n",
            "1391905840404131841,1391905840404131841,2021-05-10 23:59:47 UTC,2021-05-10,23:59:47,+0000,237299704,ashraffesalleh,yancé,,\"Al-Qassam, you have all the support from Muslims worldwide. We always pray for you. 🇵🇸 #SavePalestine\",en,[],[],[],0,0,0,['savepalestine'],[],https://twitter.com/ashraffesalleh/status/1391905840404131841,False,,0,,,,,,,,[],,,,\r\n",
            "1391905840106516485,1391863744297328642,2021-05-10 23:59:47 UTC,2021-05-10,23:59:47,+0000,1312165784312045574,mss_aysu,I'm Aysu♡ 🧈,,\"@GeniusLabTR @Busbus_sa There is cruelty in Palestine do not share in the savagery by staying silent Filistin'de zulüm var, sessiz kalarak bu vahşete sessiz kalmayın   هناك اضطهاد في فلسطين ، فلا تنضم إلى الوحشية بالتزام الصمت  #IsraeliAttackonAlAqsa #SavePalestine  #PrayForPalestine\",und,[],[],[],0,0,1,\"['israeliattackonalaqsa', 'savepalestine', 'prayforpalestine']\",[],https://twitter.com/Mss_Aysu/status/1391905840106516485,False,,0,,,,,,,,\"[{'screen_name': 'GeniusLabTR', 'name': 'Genius Lab TR \\U0001f9c8 DAECHWITA PERFORMANSI', 'id': '1196888985244774400'}, {'screen_name': 'Busbus_sa', 'name': '°Büşbüş', 'id': '1320673380614475781'}]\",,,,\r\n",
            "1391905838428835840,1391863917454974992,2021-05-10 23:59:46 UTC,2021-05-10,23:59:46,+0000,1364566067062984705,_taekookhoria,Horia༒︎,,\"@LOVELYJ1M1N There is cruelty in Palestine do not share in the savagery by staying silent Filistin'de zulüm var, sessiz kalarak bu vahşete sessiz kalmayın   هناك اضطهاد في فلسطين ، فلا تنضم إلى الوحشية بالتزام الصمت  #IsraeliAttackonAlAqsa #SavePalestine  #PrayForPalestine\",und,[],[],[],0,0,0,\"['israeliattackonalaqsa', 'savepalestine', 'prayforpalestine']\",[],https://twitter.com/_taekookhoria/status/1391905838428835840,False,,0,,,,,,,,\"[{'screen_name': 'LOVELYJ1M1N', 'name': 'eresbos', 'id': '1278363040338059272'}]\",,,,\r\n",
            "1391905838181273600,1391890796098560009,2021-05-10 23:59:46 UTC,2021-05-10,23:59:46,+0000,1371122767895101441,cileknobuo,salis,,\"@imnfairy There is cruelty in Palestine do not share in the savagery by staying silent Filistin'de zulüm var, sessiz kalarak bu vahşete sessiz kalmayın   هناك اضطهاد في فلسطين ، فلا تنضم إلى الوحشية بالتزام الصمت  #IsraeliAttackonAlAqsa #SavePalestine  #PrayForPalestine\",und,[],[],[],1,0,1,\"['israeliattackonalaqsa', 'savepalestine', 'prayforpalestine']\",[],https://twitter.com/cileknobuo/status/1391905838181273600,False,,0,,,,,,,,\"[{'screen_name': 'imnfairy', 'name': 'ᴮᴱ’𝙶𝚘𝚐𝚑 |𝔐𝔞𝔯𝔦𝔞༉', 'id': '1066359793215041536'}]\",,,,\r\n",
            "1391905837560573952,1391905199070011396,2021-05-10 23:59:46 UTC,2021-05-10,23:59:46,+0000,1133517818958364672,risus210,あRISUS ᴾᴸᴰ 🇵🇸,,@_lovesickgirll_ Sırf boktan fan sayfaları kirlenmesin diye 😔 bu zulmü yapanlar kadar oruspu çocukları #IsraeliAttackonAlAqsa #SavePalestine  #PrayForPalestine,tr,[],[],[],0,0,0,\"['israeliattackonalaqsa', 'savepalestine', 'prayforpalestine']\",[],https://twitter.com/risus210/status/1391905837560573952,False,,0,,,,,,,,\"[{'screen_name': '_lovesickgirll_', 'name': 'Aster#fuckyg', 'id': '1323935189689638914'}]\",,,,\r\n",
            "1391905836927127554,1391905836927127554,2021-05-10 23:59:46 UTC,2021-05-10,23:59:46,+0000,1332893649013596162,icaalicey,🍫,,\"gak bisa bantu apa2 buat Palestine, cuma bisa kirim do'a yg terbaik buat mereka. semoga senantiasa dalam lindungan Allah SWT. 🙏🏻😢  FREE PALESTINE!  #SavePalestine #SaveSheikhJarrah  #AlAqsaUnderAttack  https://t.co/RK6IPVuOON\",in,[],[],\"['https://pbs.twimg.com/media/E1EK9m4UcAcsQgB.jpg', 'https://pbs.twimg.com/media/E1EK-ZjUcAMAnOk.jpg']\",0,1,0,\"['savepalestine', 'savesheikhjarrah', 'alaqsaunderattack']\",[],https://twitter.com/icaalicey/status/1391905836927127554,False,,1,https://pbs.twimg.com/media/E1EK9m4UcAcsQgB.jpg,,,,,,,[],,,,\r\n",
            "1391905835018825732,1391885582192758786,2021-05-10 23:59:46 UTC,2021-05-10,23:59:46,+0000,1350158490317287430,banbangtaehyung,elysian⁷𓆙,,\"@aurbeo @Yumiyoongimeow There is cruelty in Palestine do not share in the savagery by staying silent Filistin'de zulüm var, susarak bu vahşete sessiz kalmayın   هناك اضطهاد في فلسطين ، فلا تنضم إلى الوحشية بالتزام الصمت  #IsraeliAttackonAlAqsa #SavePalestine  #PrayForPalestine\",und,[],[],[],0,2,2,\"['israeliattackonalaqsa', 'savepalestine', 'prayforpalestine']\",[],https://twitter.com/banbangtaehyung/status/1391905835018825732,False,,0,,,,,,,,\"[{'screen_name': 'aurbeo', 'name': 'ase👸🏻\\U0001f9c8', 'id': '1023837215221317632'}, {'screen_name': 'Yumiyoongimeow', 'name': 'Avokado⁷🥑', 'id': '1222560089841840130'}]\",,,,\r\n",
            "1391905834381234183,1391865395351638019,2021-05-10 23:59:45 UTC,2021-05-10,23:59:45,+0000,1350870014392459264,koyosaii,wuw👾 HYUNJIN BACK,,\"@HunterGodness There is cruelty in Palestine do not share in the savagery by staying silent Filistin'de zulüm var, sessiz kalarak bu vahşete sessiz kalmayın   هناك اضطهاد في فلسطين ، فلا تنضم إلى الوحشية بالتزام الصمت  #IsraeliAttackonAlAqsa #SavePalestine  #PrayForPalestine\",und,[],[],[],0,0,0,\"['israeliattackonalaqsa', 'savepalestine', 'prayforpalestine']\",[],https://twitter.com/koyosaii/status/1391905834381234183,False,,0,,,,,,,,[],,,,\r\n",
            "1391905832086999045,1391905832086999045,2021-05-10 23:59:45 UTC,2021-05-10,23:59:45,+0000,1242791280364617729,ptitwiter,Bilal Azam Gondal♥️🇵🇰,,\"We are Muslims but that 313 spirit is no more.  Faith is not strong, so the bubbles don't come.  All are the effects of sectarianism.  Hold a rope, then look at the power. #SavePalestine\",en,[],[],[],0,0,0,['savepalestine'],[],https://twitter.com/ptiTwiter/status/1391905832086999045,False,,0,,,,,,,,[],,,,\r\n",
            "1391905831940206594,1391873189907677194,2021-05-10 23:59:45 UTC,2021-05-10,23:59:45,+0000,1237617501422391301,catlinovv,cat linov | Wolfgang 🐺,,\"@SE0CHANGB1N_ J There is cruelty in Palestine do not share in the savagery by staying silent Filistin'de zulüm var, sessiz kalarak bu vahşete sessiz kalmayın   هناك اضطهاد في فلسطين ، فلا تنضم إلى الوحشية بالتزام الصمت  #IsraeliAttackonAlAqsa #SavePalestine  #PrayForPalestine\",und,[],[],[],0,0,0,\"['israeliattackonalaqsa', 'savepalestine', 'prayforpalestine']\",[],https://twitter.com/catlinovv/status/1391905831940206594,False,,0,,,,,,,,\"[{'screen_name': 'SE0CHANGB1N_', 'name': 'seolix⛓but yavşak 🧷', 'id': '1342015842335252481'}]\",,,,\r\n",
            "1391905831617183745,1391853010381381633,2021-05-10 23:59:45 UTC,2021-05-10,23:59:45,+0000,473658500,azeemhafeez_,Azeem Hafeez,,@IDF #IsraeliTerrorism #SavePalestine #AlAqsaUnderAttack #FreePalestine,und,[],[],[],0,0,0,\"['israeliterrorism', 'savepalestine', 'alaqsaunderattack', 'freepalestine']\",[],https://twitter.com/AzeemHafeez_/status/1391905831617183745,False,,0,,,,,,,,\"[{'screen_name': 'IDF', 'name': 'Israel Defense Forces', 'id': '18576537'}]\",,,,\r\n",
            "1391905830539337730,1391905010615783424,2021-05-10 23:59:45 UTC,2021-05-10,23:59:45,+0000,1378706118420094981,vm1nlj,َ,,\"@taelixonn There is cruelty in Palestine do not share in the savagery by staying silent Filistin'de zulüm var, sessiz kalarak bu vahşete sessiz kalmayın   هناك اضطهاد في فلسطين ، فلا تنضم إلى الوحشية بالتزام الصمت  #IsraeliAttackonAlAqsa #SavePalestine  #PrayForPalestine\",und,[],[],[],0,0,0,\"['israeliattackonalaqsa', 'savepalestine', 'prayforpalestine']\",[],https://twitter.com/VM1NLJ/status/1391905830539337730,False,,0,,,,,,,,[],,,,\r\n",
            "1391905830136471558,1391905116379246593,2021-05-10 23:59:44 UTC,2021-05-10,23:59:44,+0000,1344142213505150978,osakawonki,ً,,@sunghoonini Save Humanity.  #SavePalestine #SaveSheikhJarrah #SheikhJarrah,en,[],[],[],0,0,0,\"['savepalestine', 'savesheikhjarrah', 'sheikhjarrah']\",[],https://twitter.com/osakawonki/status/1391905830136471558,False,,0,,,,,,,,\"[{'screen_name': 'sunghoonini', 'name': 'nini 𖦹', 'id': '1192974060260429824'}]\",,,,\r\n",
            "1391905828073050114,1391875080066568196,2021-05-10 23:59:44 UTC,2021-05-10,23:59:44,+0000,946140326867202048,fondresilax,❀ éowyn,,\"@army_tokii @iamjuventus There is cruelty in Palestine do not share in the savagery by staying silent Filistin'de zulüm var, sessiz kalarak bu vahşete sessiz kalmayın   هناك اضطهاد في فلسطين ، فلا تنضم إلى الوحشية بالتزام الصمت  #IsraeliAttackonAlAqsa #SavePalestine  #PrayForPalestine\",und,[],[],[],0,0,0,\"['israeliattackonalaqsa', 'savepalestine', 'prayforpalestine']\",[],https://twitter.com/fondresilax/status/1391905828073050114,False,,0,,,,,,,,\"[{'screen_name': 'army_tokii', 'name': 'BTS PAVED THE WAY 🥂', 'id': '1312763565540020230'}, {'screen_name': 'iamjuventus', 'name': '𝙹𝚞𝚟𝚎𝚗𝚝𝚞𝚜⁷ | restimsi', 'id': '1263497584695545858'}]\",,,,\r\n",
            "1391905826537807874,1391864077706620928,2021-05-10 23:59:44 UTC,2021-05-10,23:59:44,+0000,1269855529901256704,faa61497,Faa Faa,,@kadhynee Semoga mereka selalu dalam lindungan-Nya🙏🙏 #SaveSheikhJarrah #SavePalestine #AlAqsaUnderAttack  https://t.co/hm8YJinZdl,in,[],[],['https://pbs.twimg.com/media/E1EK-JmVgAQ379O.jpg'],0,1,2,\"['savesheikhjarrah', 'savepalestine', 'alaqsaunderattack']\",[],https://twitter.com/faa61497/status/1391905826537807874,False,,1,https://pbs.twimg.com/media/E1EK-JmVgAQ379O.jpg,,,,,,,\"[{'screen_name': 'kadhynee', 'name': 'Raffasya.', 'id': '1322877514717409280'}]\",,,,\r\n",
            "1391905826185613313,1391903234554531840,2021-05-10 23:59:43 UTC,2021-05-10,23:59:43,+0000,1318603831085834254,soondingiexol,awEEE? 🌑🎮,,\"@Ex9onearewe There is cruelty in Palestine do not share in the savagery by staying silent Filistin'de zulüm var, sessiz kalarak bu vahşete sessiz kalmayın   هناك اضطهاد في فلسطين ، فلا تنضم إلى الوحشية بالتزام الصمت  #IsraeliAttackonAlAqsa #SavePalestine  #PrayForPalestine SSCB'li\",und,[],[],[],0,0,0,\"['israeliattackonalaqsa', 'savepalestine', 'prayforpalestine']\",[],https://twitter.com/soondingiexol/status/1391905826185613313,False,,0,,,,,,,,\"[{'screen_name': 'Ex9onearewe', 'name': 'yehetohorat but yedek', 'id': '1356547757209772032'}]\",,,,\r\n",
            "1391905824952442883,1391887510310113284,2021-05-10 23:59:43 UTC,2021-05-10,23:59:43,+0000,1182279702616121345,myfmlyisjjk,Lilium⁷ ≮,,\"@singularitylls There is cruelty in Palestine do not share in the savagery by staying silent Filistin'de zulüm var, sessiz kalarak bu vahşete sessiz kalmayın   هناك اضطهاد في فلسطين ، فلا تنضم إلى الوحشية بالتزام الصمت  #IsraeliAttackonAlAqsa #SavePalestine  #PrayForPalestine\",und,[],[],[],0,0,0,\"['israeliattackonalaqsa', 'savepalestine', 'prayforpalestine']\",[],https://twitter.com/myfmlyisjjk/status/1391905824952442883,False,,0,,,,,,,,\"[{'screen_name': 'singularitylls', 'name': 'sevde | rest', 'id': '1288908451675086855'}]\",,,,\r\n"
          ],
          "name": "stdout"
        }
      ]
    },
    {
      "cell_type": "code",
      "metadata": {
        "colab": {
          "base_uri": "https://localhost:8080/",
          "height": 924
        },
        "id": "Q_OTwcpjhEu7",
        "outputId": "9805e3c1-ed75-4194-e560-b44e5c7e1de5"
      },
      "source": [
        "df = pd.read_csv ('result.csv')\n",
        "display(df)"
      ],
      "execution_count": 54,
      "outputs": [
        {
          "output_type": "display_data",
          "data": {
            "text/html": [
              "<div>\n",
              "<style scoped>\n",
              "    .dataframe tbody tr th:only-of-type {\n",
              "        vertical-align: middle;\n",
              "    }\n",
              "\n",
              "    .dataframe tbody tr th {\n",
              "        vertical-align: top;\n",
              "    }\n",
              "\n",
              "    .dataframe thead th {\n",
              "        text-align: right;\n",
              "    }\n",
              "</style>\n",
              "<table border=\"1\" class=\"dataframe\">\n",
              "  <thead>\n",
              "    <tr style=\"text-align: right;\">\n",
              "      <th></th>\n",
              "      <th>id</th>\n",
              "      <th>conversation_id</th>\n",
              "      <th>created_at</th>\n",
              "      <th>date</th>\n",
              "      <th>time</th>\n",
              "      <th>timezone</th>\n",
              "      <th>user_id</th>\n",
              "      <th>username</th>\n",
              "      <th>name</th>\n",
              "      <th>place</th>\n",
              "      <th>tweet</th>\n",
              "      <th>language</th>\n",
              "      <th>mentions</th>\n",
              "      <th>urls</th>\n",
              "      <th>photos</th>\n",
              "      <th>replies_count</th>\n",
              "      <th>retweets_count</th>\n",
              "      <th>likes_count</th>\n",
              "      <th>hashtags</th>\n",
              "      <th>cashtags</th>\n",
              "      <th>link</th>\n",
              "      <th>retweet</th>\n",
              "      <th>quote_url</th>\n",
              "      <th>video</th>\n",
              "      <th>thumbnail</th>\n",
              "      <th>near</th>\n",
              "      <th>geo</th>\n",
              "      <th>source</th>\n",
              "      <th>user_rt_id</th>\n",
              "      <th>user_rt</th>\n",
              "      <th>retweet_id</th>\n",
              "      <th>reply_to</th>\n",
              "      <th>retweet_date</th>\n",
              "      <th>translate</th>\n",
              "      <th>trans_src</th>\n",
              "      <th>trans_dest</th>\n",
              "    </tr>\n",
              "  </thead>\n",
              "  <tbody>\n",
              "    <tr>\n",
              "      <th>0</th>\n",
              "      <td>1391905893311205376</td>\n",
              "      <td>1391905893311205376</td>\n",
              "      <td>2021-05-10 23:59:59 UTC</td>\n",
              "      <td>2021-05-10</td>\n",
              "      <td>23:59:59</td>\n",
              "      <td>0</td>\n",
              "      <td>4915886765</td>\n",
              "      <td>i_am_awan</td>\n",
              "      <td>اعوان</td>\n",
              "      <td>NaN</td>\n",
              "      <td>Malala can't speak against her sponsors becaus...</td>\n",
              "      <td>en</td>\n",
              "      <td>[]</td>\n",
              "      <td>[]</td>\n",
              "      <td>[]</td>\n",
              "      <td>0</td>\n",
              "      <td>0</td>\n",
              "      <td>2</td>\n",
              "      <td>['gaza', 'gazaunderattack', 'savepalestine', '...</td>\n",
              "      <td>[]</td>\n",
              "      <td>https://twitter.com/I_am_Awan/status/139190589...</td>\n",
              "      <td>False</td>\n",
              "      <td>https://twitter.com/Malala/status/139179007477...</td>\n",
              "      <td>0</td>\n",
              "      <td>NaN</td>\n",
              "      <td>NaN</td>\n",
              "      <td>NaN</td>\n",
              "      <td>NaN</td>\n",
              "      <td>NaN</td>\n",
              "      <td>NaN</td>\n",
              "      <td>NaN</td>\n",
              "      <td>[]</td>\n",
              "      <td>NaN</td>\n",
              "      <td>NaN</td>\n",
              "      <td>NaN</td>\n",
              "      <td>NaN</td>\n",
              "    </tr>\n",
              "    <tr>\n",
              "      <th>1</th>\n",
              "      <td>1391905892178685954</td>\n",
              "      <td>1391905892178685954</td>\n",
              "      <td>2021-05-10 23:59:59 UTC</td>\n",
              "      <td>2021-05-10</td>\n",
              "      <td>23:59:59</td>\n",
              "      <td>0</td>\n",
              "      <td>792231014609235968</td>\n",
              "      <td>moink9504</td>\n",
              "      <td>MOIN Ali KHAN †</td>\n",
              "      <td>NaN</td>\n",
              "      <td>Ya Allah .... Forgive us that we are unable to...</td>\n",
              "      <td>en</td>\n",
              "      <td>[{'screen_name': 'oic_oci', 'name': 'oic', 'id...</td>\n",
              "      <td>[]</td>\n",
              "      <td>['https://pbs.twimg.com/media/E1ELBZ2VcAEi1kl....</td>\n",
              "      <td>0</td>\n",
              "      <td>0</td>\n",
              "      <td>1</td>\n",
              "      <td>['gazaunderattack', 'savepalestine', 'alaqsaun...</td>\n",
              "      <td>[]</td>\n",
              "      <td>https://twitter.com/MoinK9504/status/139190589...</td>\n",
              "      <td>False</td>\n",
              "      <td>NaN</td>\n",
              "      <td>1</td>\n",
              "      <td>https://pbs.twimg.com/media/E1ELBZ2VcAEi1kl.jpg</td>\n",
              "      <td>NaN</td>\n",
              "      <td>NaN</td>\n",
              "      <td>NaN</td>\n",
              "      <td>NaN</td>\n",
              "      <td>NaN</td>\n",
              "      <td>NaN</td>\n",
              "      <td>[]</td>\n",
              "      <td>NaN</td>\n",
              "      <td>NaN</td>\n",
              "      <td>NaN</td>\n",
              "      <td>NaN</td>\n",
              "    </tr>\n",
              "    <tr>\n",
              "      <th>2</th>\n",
              "      <td>1391905891855867904</td>\n",
              "      <td>1391905891855867904</td>\n",
              "      <td>2021-05-10 23:59:59 UTC</td>\n",
              "      <td>2021-05-10</td>\n",
              "      <td>23:59:59</td>\n",
              "      <td>0</td>\n",
              "      <td>570950677</td>\n",
              "      <td>the_ghamrawy</td>\n",
              "      <td>Ganza(Champions of Europe)</td>\n",
              "      <td>NaN</td>\n",
              "      <td>كسم اسرائيل  #SavePalestine #فلسطين_تنتفض  htt...</td>\n",
              "      <td>ar</td>\n",
              "      <td>[]</td>\n",
              "      <td>[]</td>\n",
              "      <td>['https://pbs.twimg.com/media/E1EK2KJWQAAd2DA....</td>\n",
              "      <td>0</td>\n",
              "      <td>0</td>\n",
              "      <td>0</td>\n",
              "      <td>['savepalestine', 'فلسطين_تنتفض']</td>\n",
              "      <td>[]</td>\n",
              "      <td>https://twitter.com/The_Ghamrawy/status/139190...</td>\n",
              "      <td>False</td>\n",
              "      <td>NaN</td>\n",
              "      <td>1</td>\n",
              "      <td>https://pbs.twimg.com/media/E1EK2KJWQAAd2DA.jpg</td>\n",
              "      <td>NaN</td>\n",
              "      <td>NaN</td>\n",
              "      <td>NaN</td>\n",
              "      <td>NaN</td>\n",
              "      <td>NaN</td>\n",
              "      <td>NaN</td>\n",
              "      <td>[]</td>\n",
              "      <td>NaN</td>\n",
              "      <td>NaN</td>\n",
              "      <td>NaN</td>\n",
              "      <td>NaN</td>\n",
              "    </tr>\n",
              "    <tr>\n",
              "      <th>3</th>\n",
              "      <td>1391905891545489413</td>\n",
              "      <td>1391905891545489413</td>\n",
              "      <td>2021-05-10 23:59:59 UTC</td>\n",
              "      <td>2021-05-10</td>\n",
              "      <td>23:59:59</td>\n",
              "      <td>0</td>\n",
              "      <td>777554054130073600</td>\n",
              "      <td>theelham1</td>\n",
              "      <td>إلهام الله يرزقها ما تتمنّى.</td>\n",
              "      <td>NaN</td>\n",
              "      <td>\"لأجلكِ يا بهيّة المساكِن.. يا زهرة المدائِن\" ...</td>\n",
              "      <td>ar</td>\n",
              "      <td>[]</td>\n",
              "      <td>[]</td>\n",
              "      <td>['https://pbs.twimg.com/media/E1EKgakWEAMD4lP....</td>\n",
              "      <td>0</td>\n",
              "      <td>5</td>\n",
              "      <td>18</td>\n",
              "      <td>['freepalestine', 'savepalestine', 'savesheikh...</td>\n",
              "      <td>[]</td>\n",
              "      <td>https://twitter.com/theElham1/status/139190589...</td>\n",
              "      <td>False</td>\n",
              "      <td>NaN</td>\n",
              "      <td>1</td>\n",
              "      <td>https://pbs.twimg.com/media/E1EKgakWEAMD4lP.jpg</td>\n",
              "      <td>NaN</td>\n",
              "      <td>NaN</td>\n",
              "      <td>NaN</td>\n",
              "      <td>NaN</td>\n",
              "      <td>NaN</td>\n",
              "      <td>NaN</td>\n",
              "      <td>[]</td>\n",
              "      <td>NaN</td>\n",
              "      <td>NaN</td>\n",
              "      <td>NaN</td>\n",
              "      <td>NaN</td>\n",
              "    </tr>\n",
              "    <tr>\n",
              "      <th>4</th>\n",
              "      <td>1391905891272728579</td>\n",
              "      <td>1391905891272728579</td>\n",
              "      <td>2021-05-10 23:59:59 UTC</td>\n",
              "      <td>2021-05-10</td>\n",
              "      <td>23:59:59</td>\n",
              "      <td>0</td>\n",
              "      <td>1250315278639960067</td>\n",
              "      <td>tawinsgf</td>\n",
              "      <td>aya o.</td>\n",
              "      <td>NaN</td>\n",
              "      <td>this isn't all about religion its about humili...</td>\n",
              "      <td>en</td>\n",
              "      <td>[]</td>\n",
              "      <td>[]</td>\n",
              "      <td>['https://pbs.twimg.com/media/E1ELBpvVIAUlJsW....</td>\n",
              "      <td>0</td>\n",
              "      <td>7</td>\n",
              "      <td>8</td>\n",
              "      <td>['freepalestine', 'savesheikhjarrah', 'savepal...</td>\n",
              "      <td>[]</td>\n",
              "      <td>https://twitter.com/tawinsgf/status/1391905891...</td>\n",
              "      <td>False</td>\n",
              "      <td>NaN</td>\n",
              "      <td>1</td>\n",
              "      <td>https://pbs.twimg.com/media/E1ELBpvVIAUlJsW.jpg</td>\n",
              "      <td>NaN</td>\n",
              "      <td>NaN</td>\n",
              "      <td>NaN</td>\n",
              "      <td>NaN</td>\n",
              "      <td>NaN</td>\n",
              "      <td>NaN</td>\n",
              "      <td>[]</td>\n",
              "      <td>NaN</td>\n",
              "      <td>NaN</td>\n",
              "      <td>NaN</td>\n",
              "      <td>NaN</td>\n",
              "    </tr>\n",
              "    <tr>\n",
              "      <th>...</th>\n",
              "      <td>...</td>\n",
              "      <td>...</td>\n",
              "      <td>...</td>\n",
              "      <td>...</td>\n",
              "      <td>...</td>\n",
              "      <td>...</td>\n",
              "      <td>...</td>\n",
              "      <td>...</td>\n",
              "      <td>...</td>\n",
              "      <td>...</td>\n",
              "      <td>...</td>\n",
              "      <td>...</td>\n",
              "      <td>...</td>\n",
              "      <td>...</td>\n",
              "      <td>...</td>\n",
              "      <td>...</td>\n",
              "      <td>...</td>\n",
              "      <td>...</td>\n",
              "      <td>...</td>\n",
              "      <td>...</td>\n",
              "      <td>...</td>\n",
              "      <td>...</td>\n",
              "      <td>...</td>\n",
              "      <td>...</td>\n",
              "      <td>...</td>\n",
              "      <td>...</td>\n",
              "      <td>...</td>\n",
              "      <td>...</td>\n",
              "      <td>...</td>\n",
              "      <td>...</td>\n",
              "      <td>...</td>\n",
              "      <td>...</td>\n",
              "      <td>...</td>\n",
              "      <td>...</td>\n",
              "      <td>...</td>\n",
              "      <td>...</td>\n",
              "    </tr>\n",
              "    <tr>\n",
              "      <th>86</th>\n",
              "      <td>1391905830136471558</td>\n",
              "      <td>1391905116379246593</td>\n",
              "      <td>2021-05-10 23:59:44 UTC</td>\n",
              "      <td>2021-05-10</td>\n",
              "      <td>23:59:44</td>\n",
              "      <td>0</td>\n",
              "      <td>1344142213505150978</td>\n",
              "      <td>osakawonki</td>\n",
              "      <td>ً</td>\n",
              "      <td>NaN</td>\n",
              "      <td>@sunghoonini Save Humanity.  #SavePalestine #S...</td>\n",
              "      <td>en</td>\n",
              "      <td>[]</td>\n",
              "      <td>[]</td>\n",
              "      <td>[]</td>\n",
              "      <td>0</td>\n",
              "      <td>0</td>\n",
              "      <td>0</td>\n",
              "      <td>['savepalestine', 'savesheikhjarrah', 'sheikhj...</td>\n",
              "      <td>[]</td>\n",
              "      <td>https://twitter.com/osakawonki/status/13919058...</td>\n",
              "      <td>False</td>\n",
              "      <td>NaN</td>\n",
              "      <td>0</td>\n",
              "      <td>NaN</td>\n",
              "      <td>NaN</td>\n",
              "      <td>NaN</td>\n",
              "      <td>NaN</td>\n",
              "      <td>NaN</td>\n",
              "      <td>NaN</td>\n",
              "      <td>NaN</td>\n",
              "      <td>[{'screen_name': 'sunghoonini', 'name': 'nini ...</td>\n",
              "      <td>NaN</td>\n",
              "      <td>NaN</td>\n",
              "      <td>NaN</td>\n",
              "      <td>NaN</td>\n",
              "    </tr>\n",
              "    <tr>\n",
              "      <th>87</th>\n",
              "      <td>1391905828073050114</td>\n",
              "      <td>1391875080066568196</td>\n",
              "      <td>2021-05-10 23:59:44 UTC</td>\n",
              "      <td>2021-05-10</td>\n",
              "      <td>23:59:44</td>\n",
              "      <td>0</td>\n",
              "      <td>946140326867202048</td>\n",
              "      <td>fondresilax</td>\n",
              "      <td>❀ éowyn</td>\n",
              "      <td>NaN</td>\n",
              "      <td>@army_tokii @iamjuventus There is cruelty in P...</td>\n",
              "      <td>und</td>\n",
              "      <td>[]</td>\n",
              "      <td>[]</td>\n",
              "      <td>[]</td>\n",
              "      <td>0</td>\n",
              "      <td>0</td>\n",
              "      <td>0</td>\n",
              "      <td>['israeliattackonalaqsa', 'savepalestine', 'pr...</td>\n",
              "      <td>[]</td>\n",
              "      <td>https://twitter.com/fondresilax/status/1391905...</td>\n",
              "      <td>False</td>\n",
              "      <td>NaN</td>\n",
              "      <td>0</td>\n",
              "      <td>NaN</td>\n",
              "      <td>NaN</td>\n",
              "      <td>NaN</td>\n",
              "      <td>NaN</td>\n",
              "      <td>NaN</td>\n",
              "      <td>NaN</td>\n",
              "      <td>NaN</td>\n",
              "      <td>[{'screen_name': 'army_tokii', 'name': 'BTS PA...</td>\n",
              "      <td>NaN</td>\n",
              "      <td>NaN</td>\n",
              "      <td>NaN</td>\n",
              "      <td>NaN</td>\n",
              "    </tr>\n",
              "    <tr>\n",
              "      <th>88</th>\n",
              "      <td>1391905826537807874</td>\n",
              "      <td>1391864077706620928</td>\n",
              "      <td>2021-05-10 23:59:44 UTC</td>\n",
              "      <td>2021-05-10</td>\n",
              "      <td>23:59:44</td>\n",
              "      <td>0</td>\n",
              "      <td>1269855529901256704</td>\n",
              "      <td>faa61497</td>\n",
              "      <td>Faa Faa</td>\n",
              "      <td>NaN</td>\n",
              "      <td>@kadhynee Semoga mereka selalu dalam lindungan...</td>\n",
              "      <td>in</td>\n",
              "      <td>[]</td>\n",
              "      <td>[]</td>\n",
              "      <td>['https://pbs.twimg.com/media/E1EK-JmVgAQ379O....</td>\n",
              "      <td>0</td>\n",
              "      <td>1</td>\n",
              "      <td>2</td>\n",
              "      <td>['savesheikhjarrah', 'savepalestine', 'alaqsau...</td>\n",
              "      <td>[]</td>\n",
              "      <td>https://twitter.com/faa61497/status/1391905826...</td>\n",
              "      <td>False</td>\n",
              "      <td>NaN</td>\n",
              "      <td>1</td>\n",
              "      <td>https://pbs.twimg.com/media/E1EK-JmVgAQ379O.jpg</td>\n",
              "      <td>NaN</td>\n",
              "      <td>NaN</td>\n",
              "      <td>NaN</td>\n",
              "      <td>NaN</td>\n",
              "      <td>NaN</td>\n",
              "      <td>NaN</td>\n",
              "      <td>[{'screen_name': 'kadhynee', 'name': 'Raffasya...</td>\n",
              "      <td>NaN</td>\n",
              "      <td>NaN</td>\n",
              "      <td>NaN</td>\n",
              "      <td>NaN</td>\n",
              "    </tr>\n",
              "    <tr>\n",
              "      <th>89</th>\n",
              "      <td>1391905826185613313</td>\n",
              "      <td>1391903234554531840</td>\n",
              "      <td>2021-05-10 23:59:43 UTC</td>\n",
              "      <td>2021-05-10</td>\n",
              "      <td>23:59:43</td>\n",
              "      <td>0</td>\n",
              "      <td>1318603831085834254</td>\n",
              "      <td>soondingiexol</td>\n",
              "      <td>awEEE? 🌑🎮</td>\n",
              "      <td>NaN</td>\n",
              "      <td>@Ex9onearewe There is cruelty in Palestine do ...</td>\n",
              "      <td>und</td>\n",
              "      <td>[]</td>\n",
              "      <td>[]</td>\n",
              "      <td>[]</td>\n",
              "      <td>0</td>\n",
              "      <td>0</td>\n",
              "      <td>0</td>\n",
              "      <td>['israeliattackonalaqsa', 'savepalestine', 'pr...</td>\n",
              "      <td>[]</td>\n",
              "      <td>https://twitter.com/soondingiexol/status/13919...</td>\n",
              "      <td>False</td>\n",
              "      <td>NaN</td>\n",
              "      <td>0</td>\n",
              "      <td>NaN</td>\n",
              "      <td>NaN</td>\n",
              "      <td>NaN</td>\n",
              "      <td>NaN</td>\n",
              "      <td>NaN</td>\n",
              "      <td>NaN</td>\n",
              "      <td>NaN</td>\n",
              "      <td>[{'screen_name': 'Ex9onearewe', 'name': 'yehet...</td>\n",
              "      <td>NaN</td>\n",
              "      <td>NaN</td>\n",
              "      <td>NaN</td>\n",
              "      <td>NaN</td>\n",
              "    </tr>\n",
              "    <tr>\n",
              "      <th>90</th>\n",
              "      <td>1391905824952442883</td>\n",
              "      <td>1391887510310113284</td>\n",
              "      <td>2021-05-10 23:59:43 UTC</td>\n",
              "      <td>2021-05-10</td>\n",
              "      <td>23:59:43</td>\n",
              "      <td>0</td>\n",
              "      <td>1182279702616121345</td>\n",
              "      <td>myfmlyisjjk</td>\n",
              "      <td>Lilium⁷ ≮</td>\n",
              "      <td>NaN</td>\n",
              "      <td>@singularitylls There is cruelty in Palestine ...</td>\n",
              "      <td>und</td>\n",
              "      <td>[]</td>\n",
              "      <td>[]</td>\n",
              "      <td>[]</td>\n",
              "      <td>0</td>\n",
              "      <td>0</td>\n",
              "      <td>0</td>\n",
              "      <td>['israeliattackonalaqsa', 'savepalestine', 'pr...</td>\n",
              "      <td>[]</td>\n",
              "      <td>https://twitter.com/myfmlyisjjk/status/1391905...</td>\n",
              "      <td>False</td>\n",
              "      <td>NaN</td>\n",
              "      <td>0</td>\n",
              "      <td>NaN</td>\n",
              "      <td>NaN</td>\n",
              "      <td>NaN</td>\n",
              "      <td>NaN</td>\n",
              "      <td>NaN</td>\n",
              "      <td>NaN</td>\n",
              "      <td>NaN</td>\n",
              "      <td>[{'screen_name': 'singularitylls', 'name': 'se...</td>\n",
              "      <td>NaN</td>\n",
              "      <td>NaN</td>\n",
              "      <td>NaN</td>\n",
              "      <td>NaN</td>\n",
              "    </tr>\n",
              "  </tbody>\n",
              "</table>\n",
              "<p>91 rows × 36 columns</p>\n",
              "</div>"
            ],
            "text/plain": [
              "                     id      conversation_id  ... trans_src trans_dest\n",
              "0   1391905893311205376  1391905893311205376  ...       NaN        NaN\n",
              "1   1391905892178685954  1391905892178685954  ...       NaN        NaN\n",
              "2   1391905891855867904  1391905891855867904  ...       NaN        NaN\n",
              "3   1391905891545489413  1391905891545489413  ...       NaN        NaN\n",
              "4   1391905891272728579  1391905891272728579  ...       NaN        NaN\n",
              "..                  ...                  ...  ...       ...        ...\n",
              "86  1391905830136471558  1391905116379246593  ...       NaN        NaN\n",
              "87  1391905828073050114  1391875080066568196  ...       NaN        NaN\n",
              "88  1391905826537807874  1391864077706620928  ...       NaN        NaN\n",
              "89  1391905826185613313  1391903234554531840  ...       NaN        NaN\n",
              "90  1391905824952442883  1391887510310113284  ...       NaN        NaN\n",
              "\n",
              "[91 rows x 36 columns]"
            ]
          },
          "metadata": {
            "tags": []
          }
        }
      ]
    }
  ]
}